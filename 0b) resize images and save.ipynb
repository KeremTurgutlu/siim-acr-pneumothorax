{
 "cells": [
  {
   "cell_type": "markdown",
   "metadata": {},
   "source": [
    "### imports"
   ]
  },
  {
   "cell_type": "code",
   "execution_count": 1,
   "metadata": {},
   "outputs": [],
   "source": [
    "%reload_ext autoreload\n",
    "%autoreload 2"
   ]
  },
  {
   "cell_type": "code",
   "execution_count": 2,
   "metadata": {
    "_cell_guid": "b1076dfc-b9ad-4769-8c92-a6c4dae69d19",
    "_uuid": "8f2839f25d086af736a60e9eeb907d3b93b6e0e5",
    "scrolled": false
   },
   "outputs": [
    {
     "data": {
      "text/plain": [
       "'1.0.55.dev0'"
      ]
     },
     "execution_count": 2,
     "metadata": {},
     "output_type": "execute_result"
    }
   ],
   "source": [
    "from fastai.vision import *\n",
    "import fastai; fastai.__version__"
   ]
  },
  {
   "cell_type": "code",
   "execution_count": 3,
   "metadata": {},
   "outputs": [],
   "source": [
    "chx_path = Path(\"../../data/chexpert/CheXpert-v1.0-small/\")"
   ]
  },
  {
   "cell_type": "code",
   "execution_count": 4,
   "metadata": {},
   "outputs": [
    {
     "data": {
      "text/plain": [
       "[PosixPath('../../data/chexpert/CheXpert-v1.0-small/train'),\n",
       " PosixPath('../../data/chexpert/CheXpert-v1.0-small/valid'),\n",
       " PosixPath('../../data/chexpert/CheXpert-v1.0-small/valid_320'),\n",
       " PosixPath('../../data/chexpert/CheXpert-v1.0-small/train.csv'),\n",
       " PosixPath('../../data/chexpert/CheXpert-v1.0-small/train_320'),\n",
       " PosixPath('../../data/chexpert/CheXpert-v1.0-small/valid.csv')]"
      ]
     },
     "execution_count": 4,
     "metadata": {},
     "output_type": "execute_result"
    }
   ],
   "source": [
    "chx_path.ls()"
   ]
  },
  {
   "cell_type": "code",
   "execution_count": 5,
   "metadata": {},
   "outputs": [],
   "source": [
    "mimic_path = Path(\"../../data/mimic-cxr/\")"
   ]
  },
  {
   "cell_type": "code",
   "execution_count": 6,
   "metadata": {},
   "outputs": [
    {
     "data": {
      "text/plain": [
       "[PosixPath('../../data/mimic-cxr/train'),\n",
       " PosixPath('../../data/mimic-cxr/valid'),\n",
       " PosixPath('../../data/mimic-cxr/valid_320'),\n",
       " PosixPath('../../data/mimic-cxr/train.csv'),\n",
       " PosixPath('../../data/mimic-cxr/train_320'),\n",
       " PosixPath('../../data/mimic-cxr/valid.csv')]"
      ]
     },
     "execution_count": 6,
     "metadata": {},
     "output_type": "execute_result"
    }
   ],
   "source": [
    "mimic_path.ls()"
   ]
  },
  {
   "cell_type": "markdown",
   "metadata": {},
   "source": [
    "### check original size"
   ]
  },
  {
   "cell_type": "code",
   "execution_count": 19,
   "metadata": {},
   "outputs": [],
   "source": [
    "# open_image(get_files(chx_path/'train/patient00007/', recurse=True)[0]).shape"
   ]
  },
  {
   "cell_type": "code",
   "execution_count": null,
   "metadata": {},
   "outputs": [],
   "source": []
  },
  {
   "cell_type": "code",
   "execution_count": null,
   "metadata": {},
   "outputs": [],
   "source": []
  },
  {
   "cell_type": "markdown",
   "metadata": {},
   "source": [
    "### resize save"
   ]
  },
  {
   "cell_type": "code",
   "execution_count": null,
   "metadata": {},
   "outputs": [],
   "source": [
    "sz = 320\n",
    "image_folders = ['valid', 'train']"
   ]
  },
  {
   "cell_type": "code",
   "execution_count": 61,
   "metadata": {},
   "outputs": [],
   "source": [
    "def resize_and_save(fname, i, data_path, new_folder, folder, sz): \n",
    "    n = len(str(data_path/folder).split(\"/\"))\n",
    "    name = \"/\".join(str(fname).split(\"/\")[n:])\n",
    "    new_path = data_path/new_folder/name\n",
    "    \n",
    "    os.makedirs(new_path.parent, exist_ok=True)\n",
    "    img = PIL.Image.open(fname)\n",
    "    img_rszd = img.resize((sz,sz))\n",
    "    img_rszd.save(new_path)"
   ]
  },
  {
   "cell_type": "code",
   "execution_count": 75,
   "metadata": {},
   "outputs": [],
   "source": [
    "def create_resized_images(data_path, folder, sz=320):\n",
    "    \"creates folder_{sz} from folder\"\n",
    "    # create new folders\n",
    "    new_folder = f\"{folder}_{sz}\"\n",
    "    os.makedirs(data_path/f\"{new_folder}\", exist_ok=True) \n",
    "    # get all files\n",
    "    files = get_files(data_path/folder, recurse=True)\n",
    "    # resize and save all\n",
    "    f = partial(resize_and_save, data_path=data_path, new_folder=new_folder, folder=folder, sz=sz)\n",
    "    parallel(f, files, max_workers=40)"
   ]
  },
  {
   "cell_type": "code",
   "execution_count": 76,
   "metadata": {
    "scrolled": true
   },
   "outputs": [],
   "source": [
    "create_resized_images(data_path=chx_path, folder='valid', sz=320)\n",
    "create_resized_images(data_path=chx_path, folder='train', sz=320)\n",
    "\n",
    "create_resized_images(data_path=mimic_path, folder='valid', sz=320)\n",
    "create_resized_images(data_path=mimic_path, folder='train', sz=320)"
   ]
  },
  {
   "cell_type": "code",
   "execution_count": null,
   "metadata": {},
   "outputs": [],
   "source": []
  },
  {
   "cell_type": "code",
   "execution_count": null,
   "metadata": {},
   "outputs": [],
   "source": []
  },
  {
   "cell_type": "code",
   "execution_count": null,
   "metadata": {},
   "outputs": [],
   "source": []
  },
  {
   "cell_type": "code",
   "execution_count": null,
   "metadata": {},
   "outputs": [],
   "source": []
  },
  {
   "cell_type": "code",
   "execution_count": null,
   "metadata": {},
   "outputs": [],
   "source": []
  },
  {
   "cell_type": "code",
   "execution_count": null,
   "metadata": {},
   "outputs": [],
   "source": []
  },
  {
   "cell_type": "code",
   "execution_count": null,
   "metadata": {},
   "outputs": [],
   "source": []
  },
  {
   "cell_type": "code",
   "execution_count": null,
   "metadata": {},
   "outputs": [],
   "source": []
  },
  {
   "cell_type": "code",
   "execution_count": null,
   "metadata": {},
   "outputs": [],
   "source": []
  }
 ],
 "metadata": {
  "kernelspec": {
   "display_name": "Python [conda env:my_fastai]",
   "language": "python",
   "name": "conda-env-my_fastai-py"
  },
  "language_info": {
   "codemirror_mode": {
    "name": "ipython",
    "version": 3
   },
   "file_extension": ".py",
   "mimetype": "text/x-python",
   "name": "python",
   "nbconvert_exporter": "python",
   "pygments_lexer": "ipython3",
   "version": "3.7.2"
  }
 },
 "nbformat": 4,
 "nbformat_minor": 2
}
