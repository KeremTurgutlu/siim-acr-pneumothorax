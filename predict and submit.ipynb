{
 "cells": [
  {
   "cell_type": "markdown",
   "metadata": {},
   "source": [
    "### imports"
   ]
  },
  {
   "cell_type": "code",
   "execution_count": 1,
   "metadata": {},
   "outputs": [],
   "source": [
    "%reload_ext autoreload\n",
    "%autoreload 2"
   ]
  },
  {
   "cell_type": "code",
   "execution_count": 2,
   "metadata": {
    "_cell_guid": "b1076dfc-b9ad-4769-8c92-a6c4dae69d19",
    "_uuid": "8f2839f25d086af736a60e9eeb907d3b93b6e0e5"
   },
   "outputs": [
    {
     "data": {
      "text/plain": [
       "'1.0.55.dev0'"
      ]
     },
     "execution_count": 2,
     "metadata": {},
     "output_type": "execute_result"
    }
   ],
   "source": [
    "from fastai.vision import *\n",
    "from fastai.vision.interpret import *\n",
    "import fastai; fastai.__version__"
   ]
  },
  {
   "cell_type": "code",
   "execution_count": 3,
   "metadata": {},
   "outputs": [
    {
     "data": {
      "text/plain": [
       "[PosixPath('../../data/siim_acr_pneu/train'),\n",
       " PosixPath('../../data/siim_acr_pneu/clas_df.csv'),\n",
       " PosixPath('../../data/siim_acr_pneu/dicom-images-test'),\n",
       " PosixPath('../../data/siim_acr_pneu/models'),\n",
       " PosixPath('../../data/siim_acr_pneu/dicom-images-train'),\n",
       " PosixPath('../../data/siim_acr_pneu/train-rle.csv'),\n",
       " PosixPath('../../data/siim_acr_pneu/seg_df.csv'),\n",
       " PosixPath('../../data/siim_acr_pneu/learn'),\n",
       " PosixPath('../../data/siim_acr_pneu/test')]"
      ]
     },
     "execution_count": 3,
     "metadata": {},
     "output_type": "execute_result"
    }
   ],
   "source": [
    "data_path = Path(\"../../data/siim_acr_pneu/\"); data_path.ls()"
   ]
  },
  {
   "cell_type": "code",
   "execution_count": 4,
   "metadata": {},
   "outputs": [],
   "source": [
    "torch.cuda.set_device(7)"
   ]
  },
  {
   "cell_type": "markdown",
   "metadata": {},
   "source": [
    "### Workflow\n",
    "\n",
    "- 1) Run segmentation on all valid and test images\n",
    "- 2) Run classification on all test valid and images\n",
    "- 3) Find optimal thresh\n",
    "- 4) Submit"
   ]
  },
  {
   "cell_type": "code",
   "execution_count": 5,
   "metadata": {},
   "outputs": [],
   "source": [
    "# this is needed or div=False\n",
    "class SegmentationLabelList(SegmentationLabelList):\n",
    "    def open(self, fn): return open_mask(fn, div=True)\n",
    "\n",
    "class SegmentationItemList(SegmentationItemList):\n",
    "    _label_cls = SegmentationLabelList"
   ]
  },
  {
   "cell_type": "code",
   "execution_count": 6,
   "metadata": {},
   "outputs": [],
   "source": [
    "sz = 224"
   ]
  },
  {
   "cell_type": "code",
   "execution_count": 7,
   "metadata": {},
   "outputs": [],
   "source": [
    "clas_learn = Learner(**torch.load(data_path/f'learn/clas-chexpert-ft-resnet34-{sz}'))\n",
    "seg_learn = Learner(**torch.load(data_path/f'learn/seg-chexpert-ft-resnext34-{sz}'))"
   ]
  },
  {
   "cell_type": "markdown",
   "metadata": {},
   "source": [
    "### 1) Run seg on valid/test"
   ]
  },
  {
   "cell_type": "code",
   "execution_count": 8,
   "metadata": {},
   "outputs": [],
   "source": [
    "seg_valid_probs, seg_valid_targs = seg_learn.get_preds(DatasetType.Valid)\n",
    "seg_test_probs, seg_test_targs = seg_learn.get_preds(DatasetType.Test)"
   ]
  },
  {
   "cell_type": "code",
   "execution_count": 9,
   "metadata": {},
   "outputs": [],
   "source": [
    "def dice_thres(input, target, t):\n",
    "    \"dice score with threshold\"\n",
    "    input_hard = input[:,1,:,:] > t\n",
    "    n = input_hard.shape[0]\n",
    "    inputs = input_hard.float().view(n,-1)\n",
    "    targs = target.float().view(n,-1)\n",
    "    intersect = (inputs * targs).sum()\n",
    "    union = (inputs+targs).sum()\n",
    "    dice = ((2. * intersect) / union)\n",
    "    return dice"
   ]
  },
  {
   "cell_type": "code",
   "execution_count": 10,
   "metadata": {
    "scrolled": false
   },
   "outputs": [
    {
     "name": "stdout",
     "output_type": "stream",
     "text": [
      "0.0 tensor(0.0289)\n",
      "0.05 tensor(0.4260)\n",
      "0.1 tensor(0.4927)\n",
      "0.15000000000000002 tensor(0.5240)\n",
      "0.2 tensor(0.5377)\n",
      "0.25 tensor(0.5411)\n",
      "0.30000000000000004 tensor(0.5364)\n",
      "0.35000000000000003 tensor(0.5251)\n",
      "0.4 tensor(0.5071)\n",
      "0.45 tensor(0.4817)\n",
      "0.5 tensor(0.4515)\n",
      "0.55 tensor(0.4183)\n",
      "0.6000000000000001 tensor(0.3845)\n",
      "0.65 tensor(0.3515)\n",
      "0.7000000000000001 tensor(0.3188)\n",
      "0.75 tensor(0.2833)\n",
      "0.8 tensor(0.2401)\n",
      "0.8500000000000001 tensor(0.1891)\n",
      "0.9 tensor(0.1287)\n",
      "0.9500000000000001 tensor(0.0641)\n",
      "1.0 tensor(0.)\n"
     ]
    }
   ],
   "source": [
    "# dice scores at different probability thresholds\n",
    "for t in np.linspace(0,1,21):\n",
    "    d = dice_thres(seg_valid_probs, seg_valid_targs, t=t)\n",
    "    print(t, d)"
   ]
  },
  {
   "cell_type": "markdown",
   "metadata": {},
   "source": [
    "### 2) Run clas on valid/test"
   ]
  },
  {
   "cell_type": "code",
   "execution_count": 11,
   "metadata": {},
   "outputs": [],
   "source": [
    "from sklearn.metrics import confusion_matrix"
   ]
  },
  {
   "cell_type": "code",
   "execution_count": 12,
   "metadata": {},
   "outputs": [],
   "source": [
    "clas_valid_probs, clas_valid_targs = clas_learn.get_preds(DatasetType.Valid)\n",
    "clas_test_probs, clas_test_targs = clas_learn.get_preds(DatasetType.Test)"
   ]
  },
  {
   "cell_type": "markdown",
   "metadata": {},
   "source": [
    "### 3) Grid search for best thres -  Calculate approx LB score "
   ]
  },
  {
   "cell_type": "code",
   "execution_count": 13,
   "metadata": {},
   "outputs": [],
   "source": [
    "from tqdm import tqdm_notebook"
   ]
  },
  {
   "cell_type": "code",
   "execution_count": 14,
   "metadata": {
    "scrolled": true
   },
   "outputs": [],
   "source": [
    "cand = []\n",
    "for i in np.linspace(0,1,21):\n",
    "    for j in np.linspace(0,1,21):\n",
    "        cand.append((i,j))"
   ]
  },
  {
   "cell_type": "code",
   "execution_count": 15,
   "metadata": {},
   "outputs": [],
   "source": [
    "def find_best_thres(cand=cand):\n",
    "    \"grid search cls_thres, seg_thres\"\n",
    "    best_score, best_seg_thres, best_cls_thres = 0, None, None\n",
    "    \n",
    "    for cls_thres, seg_thres in tqdm_notebook(cand):\n",
    "        clas_valid_hard = clas_valid_probs[:, 1] > cls_thres\n",
    "        cm = confusion_matrix(clas_valid_targs, clas_valid_hard)\n",
    "\n",
    "        P_0_0 = cm[0,0] / cm[0, :].sum()\n",
    "        P_1_1 = cm[1,1] / cm[1, :].sum()\n",
    "\n",
    "        # public LB ratios\n",
    "        R_1, R_0 = 0.7886, 0.2114\n",
    "        dice_score = dice_thres(seg_valid_probs, seg_valid_targs, seg_thres)\n",
    "\n",
    "        score_cls = R_1*P_1_1\n",
    "        score_seg = R_0*P_0_0*dice_score\n",
    "        total = score_cls + score_seg\n",
    "\n",
    "        # update\n",
    "        if total > best_score:\n",
    "            best_score = total\n",
    "            best_seg_thres = seg_thres\n",
    "            best_cls_thres = cls_thres\n",
    "\n",
    "    return best_score, best_cls_thres, best_seg_thres"
   ]
  },
  {
   "cell_type": "code",
   "execution_count": 16,
   "metadata": {},
   "outputs": [
    {
     "data": {
      "application/vnd.jupyter.widget-view+json": {
       "model_id": "bd97edda719848f5ba2e8baa0063a21e",
       "version_major": 2,
       "version_minor": 0
      },
      "text/plain": [
       "HBox(children=(IntProgress(value=0, max=441), HTML(value='')))"
      ]
     },
     "metadata": {},
     "output_type": "display_data"
    },
    {
     "name": "stdout",
     "output_type": "stream",
     "text": [
      "\n"
     ]
    }
   ],
   "source": [
    "best_score, best_cls_thres, best_seg_thres = find_best_thres()"
   ]
  },
  {
   "cell_type": "code",
   "execution_count": 17,
   "metadata": {},
   "outputs": [
    {
     "data": {
      "text/plain": [
       "(tensor(0.8345), 0.15000000000000002, 0.25)"
      ]
     },
     "execution_count": 17,
     "metadata": {},
     "output_type": "execute_result"
    }
   ],
   "source": [
    "best_score, best_cls_thres, best_seg_thres"
   ]
  },
  {
   "cell_type": "markdown",
   "metadata": {},
   "source": [
    "### 4) Submit\n",
    "\n",
    "- Convert segmentation probas to binary \n",
    "- Resize to 1024, 1024\n",
    "- Separate instances\n",
    "- Convert individual masks to rle"
   ]
  },
  {
   "cell_type": "code",
   "execution_count": 18,
   "metadata": {},
   "outputs": [],
   "source": [
    "cls_thres, seg_thres = best_cls_thres, best_seg_thres"
   ]
  },
  {
   "cell_type": "code",
   "execution_count": 19,
   "metadata": {},
   "outputs": [],
   "source": [
    "from mask_functions import *\n",
    "from skimage.measure import label"
   ]
  },
  {
   "cell_type": "code",
   "execution_count": 20,
   "metadata": {},
   "outputs": [
    {
     "data": {
      "text/plain": [
       "torch.Size([1377, 224, 224])"
      ]
     },
     "execution_count": 20,
     "metadata": {},
     "output_type": "execute_result"
    }
   ],
   "source": [
    "# convert all soft mask predictions to hard predictions\n",
    "seg_test_hard = (seg_test_probs[:,1,:,:] > seg_thres).squeeze(1); seg_test_hard.shape"
   ]
  },
  {
   "cell_type": "code",
   "execution_count": 21,
   "metadata": {},
   "outputs": [
    {
     "data": {
      "image/jpeg": "[encoded data removed]",
      "image/png": "[encoded data removed]",
      "text/plain": [
       "ImageSegment (1, 224, 224)"
      ]
     },
     "execution_count": 21,
     "metadata": {},
     "output_type": "execute_result"
    }
   ],
   "source": [
    "ImageSegment(seg_test_hard[4][None,:])"
   ]
  },
  {
   "cell_type": "code",
   "execution_count": 22,
   "metadata": {},
   "outputs": [],
   "source": [
    "def tensor2pil(t):\n",
    "    return (PIL.Image.fromarray((to_np(t)*255).astype(np.uint8), mode='L')\n",
    "                .resize((1024,1024), PIL.Image.NEAREST))"
   ]
  },
  {
   "cell_type": "code",
   "execution_count": 23,
   "metadata": {},
   "outputs": [],
   "source": [
    "def maskarray2rles(maskarray):\n",
    "    rles = []\n",
    "    labeled_maskarray = label(maskarray)\n",
    "    unique_labels = list(np.unique(labeled_maskarray)[1:])\n",
    "    for l in unique_labels:\n",
    "        rle = mask2rle((labeled_maskarray == l).astype(np.uint8)*255, *(1024,1024))\n",
    "        rles.append(rle)\n",
    "    return rles"
   ]
  },
  {
   "cell_type": "code",
   "execution_count": 24,
   "metadata": {},
   "outputs": [],
   "source": [
    "# extract test image ids\n",
    "test_image_ids = np.array([o.stem for o in seg_learn.data.test_ds.items])"
   ]
  },
  {
   "cell_type": "code",
   "execution_count": 25,
   "metadata": {},
   "outputs": [],
   "source": [
    "# find images to submit mask predictions for\n",
    "has_pneumo = to_np((clas_test_probs[:, 1] < cls_thres)).astype(bool)\n",
    "\n",
    "mask_test_image_ids = test_image_ids[has_pneumo]\n",
    "mask_test_hard = seg_test_hard[tensor(has_pneumo)]\n",
    "\n",
    "no_mask_test_image_ids = test_image_ids[~has_pneumo]"
   ]
  },
  {
   "cell_type": "code",
   "execution_count": 26,
   "metadata": {},
   "outputs": [
    {
     "data": {
      "text/plain": [
       "((150,), (1227,), torch.Size([150, 224, 224]))"
      ]
     },
     "execution_count": 26,
     "metadata": {},
     "output_type": "execute_result"
    }
   ],
   "source": [
    "mask_test_image_ids.shape, no_mask_test_image_ids.shape, mask_test_hard.shape"
   ]
  },
  {
   "cell_type": "code",
   "execution_count": 27,
   "metadata": {},
   "outputs": [
    {
     "data": {
      "application/vnd.jupyter.widget-view+json": {
       "model_id": "12967b39638340f088d20b32ce8dd911",
       "version_major": 2,
       "version_minor": 0
      },
      "text/plain": [
       "HBox(children=(IntProgress(value=0, max=150), HTML(value='')))"
      ]
     },
     "metadata": {},
     "output_type": "display_data"
    },
    {
     "name": "stdout",
     "output_type": "stream",
     "text": [
      "\n"
     ]
    }
   ],
   "source": [
    "# create rle for all test predictions\n",
    "all_image_ids = []\n",
    "all_rles = []\n",
    "for i in tqdm_notebook(range(len(mask_test_image_ids))):    \n",
    "    image_id, t = mask_test_image_ids[i], mask_test_hard[i]\n",
    "    maskimg = tensor2pil(t)\n",
    "    maskarray = np.asarray(maskimg).T\n",
    "    if len(np.unique(maskarray)) != 1: rles = maskarray2rles(maskarray)\n",
    "    else: rles = ['-1']\n",
    "    for rle in rles:\n",
    "        all_image_ids.append(image_id)\n",
    "        all_rles.append(rle)"
   ]
  },
  {
   "cell_type": "code",
   "execution_count": 28,
   "metadata": {
    "scrolled": true
   },
   "outputs": [
    {
     "data": {
      "text/plain": [
       "(339, 339)"
      ]
     },
     "execution_count": 28,
     "metadata": {},
     "output_type": "execute_result"
    }
   ],
   "source": [
    "len(all_image_ids), len(all_rles)"
   ]
  },
  {
   "cell_type": "code",
   "execution_count": 29,
   "metadata": {},
   "outputs": [],
   "source": [
    "sub1 = pd.DataFrame({\"ImageId\": all_image_ids, \"EncodedPixels\":all_rles})\n",
    "sub2 = pd.DataFrame({\"ImageId\": no_mask_test_image_ids, \"EncodedPixels\":\"-1\"})\n",
    "\n",
    "final_sub = pd.concat([sub1, sub2])\n",
    "final_sub.to_csv(\"sub.csv\", index=False)"
   ]
  },
  {
   "cell_type": "code",
   "execution_count": 30,
   "metadata": {
    "scrolled": true
   },
   "outputs": [],
   "source": [
    "sub2 = pd.DataFrame({\"ImageId\": no_mask_test_image_ids, \"EncodedPixels\":\"-1\"})"
   ]
  },
  {
   "cell_type": "code",
   "execution_count": 31,
   "metadata": {},
   "outputs": [],
   "source": [
    "final_sub = pd.concat([sub1, sub2])"
   ]
  },
  {
   "cell_type": "code",
   "execution_count": 32,
   "metadata": {},
   "outputs": [],
   "source": [
    "final_sub.to_csv(\"sub.csv\", index=False)"
   ]
  },
  {
   "cell_type": "code",
   "execution_count": 33,
   "metadata": {},
   "outputs": [],
   "source": [
    "from IPython.display import FileLink"
   ]
  },
  {
   "cell_type": "code",
   "execution_count": 34,
   "metadata": {},
   "outputs": [
    {
     "data": {
      "text/html": [
       "<a href='sub.csv' target='_blank'>sub.csv</a><br>"
      ],
      "text/plain": [
       "/home/turgutluk/git/siim_acr_pneu/sub.csv"
      ]
     },
     "execution_count": 34,
     "metadata": {},
     "output_type": "execute_result"
    }
   ],
   "source": [
    "FileLink(\"sub.csv\")"
   ]
  },
  {
   "cell_type": "code",
   "execution_count": null,
   "metadata": {},
   "outputs": [],
   "source": []
  },
  {
   "cell_type": "code",
   "execution_count": null,
   "metadata": {},
   "outputs": [],
   "source": []
  }
 ],
 "metadata": {
  "kernelspec": {
   "display_name": "Python [conda env:my_fastai]",
   "language": "python",
   "name": "conda-env-my_fastai-py"
  },
  "language_info": {
   "codemirror_mode": {
    "name": "ipython",
    "version": 3
   },
   "file_extension": ".py",
   "mimetype": "text/x-python",
   "name": "python",
   "nbconvert_exporter": "python",
   "pygments_lexer": "ipython3",
   "version": "3.7.2"
  }
 },
 "nbformat": 4,
 "nbformat_minor": 2
}
