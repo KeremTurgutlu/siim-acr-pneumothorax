{
 "cells": [
  {
   "cell_type": "markdown",
   "metadata": {},
   "source": [
    "### imports"
   ]
  },
  {
   "cell_type": "code",
   "execution_count": 1,
   "metadata": {},
   "outputs": [],
   "source": [
    "%reload_ext autoreload\n",
    "%autoreload 2"
   ]
  },
  {
   "cell_type": "code",
   "execution_count": 2,
   "metadata": {
    "_cell_guid": "b1076dfc-b9ad-4769-8c92-a6c4dae69d19",
    "_uuid": "8f2839f25d086af736a60e9eeb907d3b93b6e0e5"
   },
   "outputs": [
    {
     "data": {
      "text/plain": [
       "'1.0.55.dev0'"
      ]
     },
     "execution_count": 2,
     "metadata": {},
     "output_type": "execute_result"
    }
   ],
   "source": [
    "from fastai.vision import *\n",
    "from fastai.vision.interpret import *\n",
    "import fastai; fastai.__version__"
   ]
  },
  {
   "cell_type": "code",
   "execution_count": 3,
   "metadata": {},
   "outputs": [
    {
     "data": {
      "text/plain": [
       "[PosixPath('../../data/siim_acr_pneu/train'),\n",
       " PosixPath('../../data/siim_acr_pneu/clas_df.csv'),\n",
       " PosixPath('../../data/siim_acr_pneu/dicom-images-test'),\n",
       " PosixPath('../../data/siim_acr_pneu/models'),\n",
       " PosixPath('../../data/siim_acr_pneu/dicom-images-train'),\n",
       " PosixPath('../../data/siim_acr_pneu/train-rle.csv'),\n",
       " PosixPath('../../data/siim_acr_pneu/seg_df.csv'),\n",
       " PosixPath('../../data/siim_acr_pneu/learn'),\n",
       " PosixPath('../../data/siim_acr_pneu/test')]"
      ]
     },
     "execution_count": 3,
     "metadata": {},
     "output_type": "execute_result"
    }
   ],
   "source": [
    "data_path = Path(\"../../data/siim_acr_pneu/\"); data_path.ls()"
   ]
  },
  {
   "cell_type": "code",
   "execution_count": 4,
   "metadata": {},
   "outputs": [],
   "source": [
    "torch.cuda.set_device(7)"
   ]
  },
  {
   "cell_type": "code",
   "execution_count": 5,
   "metadata": {},
   "outputs": [],
   "source": [
    "from mask_functions import *\n",
    "from skimage.measure import label"
   ]
  },
  {
   "cell_type": "markdown",
   "metadata": {},
   "source": [
    "### Workflow\n",
    "\n",
    "- 1) Run segmentation on all valid and test images\n",
    "- 2) Run classification on all test valid and images\n",
    "- 3) Find optimal thresh\n",
    "- 4) Submit"
   ]
  },
  {
   "cell_type": "code",
   "execution_count": 6,
   "metadata": {},
   "outputs": [],
   "source": [
    "# this is needed or div=False\n",
    "class SegmentationLabelList(SegmentationLabelList):\n",
    "    def open(self, fn): return open_mask(fn, div=True)\n",
    "\n",
    "class SegmentationItemList(SegmentationItemList):\n",
    "    _label_cls = SegmentationLabelList"
   ]
  },
  {
   "cell_type": "code",
   "execution_count": 7,
   "metadata": {},
   "outputs": [],
   "source": [
    "sz = 224"
   ]
  },
  {
   "cell_type": "code",
   "execution_count": 151,
   "metadata": {},
   "outputs": [],
   "source": [
    "clas_learn = Learner(**torch.load(data_path/f'learn/clas-chexpert-ft-resnext34-{sz}'))\n",
    "seg_learn = Learner(**torch.load(data_path/f'learn/seg-chexpert-ft-resnext34-{sz}'))"
   ]
  },
  {
   "cell_type": "markdown",
   "metadata": {},
   "source": [
    "### 1) Run seg on valid/test"
   ]
  },
  {
   "cell_type": "code",
   "execution_count": 152,
   "metadata": {},
   "outputs": [],
   "source": [
    "seg_valid_probs, seg_valid_targs = seg_learn.get_preds(DatasetType.Valid)\n",
    "seg_test_probs, seg_test_targs = seg_learn.get_preds(DatasetType.Test)"
   ]
  },
  {
   "cell_type": "markdown",
   "metadata": {},
   "source": [
    "### 1a) Semantic Dice (deprecated)"
   ]
  },
  {
   "cell_type": "code",
   "execution_count": 153,
   "metadata": {},
   "outputs": [],
   "source": [
    "def semantic_dice(input, target, t):\n",
    "    '''\n",
    "    semantic dice score with threshold \n",
    "    input: 1 mask probability per image\n",
    "    target: 1 mask target per image\n",
    "    '''\n",
    "    input_hard = input[:,1,:,:] > t\n",
    "    n = input_hard.shape[0]\n",
    "    inputs = input_hard.float().view(n,-1)\n",
    "    targs = target.float().view(n,-1)\n",
    "    intersect = (inputs * targs).sum()\n",
    "    union = (inputs+targs).sum()\n",
    "    dice = ((2. * intersect) / union)\n",
    "    return dice"
   ]
  },
  {
   "cell_type": "code",
   "execution_count": 154,
   "metadata": {
    "scrolled": false
   },
   "outputs": [],
   "source": [
    "# # dice scores at different probability thresholds\n",
    "# for t in np.linspace(0,1,21):\n",
    "#     d = semantic_dice(seg_valid_probs, seg_valid_targs, t=t)\n",
    "#     print(t, d)"
   ]
  },
  {
   "cell_type": "markdown",
   "metadata": {},
   "source": [
    "### 1b) Instance Dice"
   ]
  },
  {
   "cell_type": "code",
   "execution_count": 155,
   "metadata": {},
   "outputs": [],
   "source": [
    "# rles for each validation image\n",
    "train_rle_df = pd.read_csv(data_path/'train-rle.csv')\n",
    "valid_image_ids = [Path(o).stem for o in seg_learn.data.valid_ds.items]\n",
    "valid_rle_dict = {o:train_rle_df[train_rle_df.ImageId == o][' EncodedPixels'].values for o in valid_image_ids}"
   ]
  },
  {
   "cell_type": "code",
   "execution_count": 156,
   "metadata": {},
   "outputs": [],
   "source": [
    "def rles2masks(rles):\n",
    "    'convert rles into list of (1024,1024) binary (0,1) masks'\n",
    "    masks = []\n",
    "    for rle in rles:\n",
    "        maskimg = PIL.Image.fromarray(rle2mask(rle, 1024, 1024).T.astype(np.uint8))\n",
    "        assert np.all(np.unique(np.asarray(maskimg)) == np.array([0,255]))\n",
    "        masks.append((np.asarray(maskimg)/255).astype(np.uint8))\n",
    "    return masks"
   ]
  },
  {
   "cell_type": "code",
   "execution_count": 157,
   "metadata": {},
   "outputs": [
    {
     "data": {
      "text/plain": [
       "237"
      ]
     },
     "execution_count": 157,
     "metadata": {},
     "output_type": "execute_result"
    }
   ],
   "source": [
    "# create masks for all validation images\n",
    "valid_instance_targs = [np.array(rles2masks(valid_rle_dict[k])) for k in valid_image_ids]\n",
    "len(valid_instance_targs)"
   ]
  },
  {
   "cell_type": "code",
   "execution_count": 158,
   "metadata": {},
   "outputs": [
    {
     "data": {
      "image/png": "[encoded data removed]",
      "text/plain": [
       "<Figure size 432x288 with 1 Axes>"
      ]
     },
     "metadata": {
      "needs_background": "light"
     },
     "output_type": "display_data"
    }
   ],
   "source": [
    "# test\n",
    "masks = valid_instance_targs[0]\n",
    "for m in masks: assert np.all(np.unique(m) == np.array([0,1]))\n",
    "plt.imshow(np.concatenate(masks));"
   ]
  },
  {
   "cell_type": "code",
   "execution_count": 159,
   "metadata": {},
   "outputs": [
    {
     "data": {
      "text/plain": [
       "torch.Size([1377, 2, 224, 224])"
      ]
     },
     "execution_count": 159,
     "metadata": {},
     "output_type": "execute_result"
    }
   ],
   "source": [
    "seg_test_probs.shape"
   ]
  },
  {
   "cell_type": "code",
   "execution_count": 160,
   "metadata": {},
   "outputs": [],
   "source": [
    "def prob2preds(prob, t):\n",
    "    '''\n",
    "    create instance preds from single mask probs \n",
    "    '''\n",
    "    input_hard = prob[1,:,:] > t\n",
    "    label_image = label(input_hard)\n",
    "    unique_labels = np.unique(label_image)[1:]\n",
    "    if len(unique_labels) > 0:\n",
    "        instance_preds = [(label_image == l).astype(np.uint8) for l in unique_labels]\n",
    "        instance_preds_resized = [np.asarray(PIL.Image.fromarray(arr).resize((1024,1024), \n",
    "                                    resample=PIL.Image.NEAREST)) for arr in instance_preds]\n",
    "    else: instance_preds_resized = '-1'\n",
    "    return np.array(instance_preds_resized)"
   ]
  },
  {
   "cell_type": "code",
   "execution_count": 161,
   "metadata": {},
   "outputs": [],
   "source": [
    "t = 0.5\n",
    "valid_instance_preds = [prob2preds(prob, t) for prob in seg_valid_probs]"
   ]
  },
  {
   "cell_type": "code",
   "execution_count": 162,
   "metadata": {},
   "outputs": [
    {
     "data": {
      "image/png": "[encoded data removed]",
      "text/plain": [
       "<Figure size 432x288 with 1 Axes>"
      ]
     },
     "metadata": {
      "needs_background": "light"
     },
     "output_type": "display_data"
    }
   ],
   "source": [
    "# test\n",
    "masks = valid_instance_preds[0]\n",
    "for m in masks: assert np.all(np.unique(m) == np.array([0,1]))\n",
    "plt.imshow(np.concatenate(masks));"
   ]
  },
  {
   "cell_type": "code",
   "execution_count": 163,
   "metadata": {},
   "outputs": [],
   "source": [
    "from scipy.optimize import linear_sum_assignment\n",
    "from tqdm import tqdm_notebook\n",
    "\n",
    "def instance_dice(instance_preds, instance_targs):\n",
    "    '''\n",
    "    instance dice score with threshold \n",
    "    instance_preds: list of N_i mask (0,1) per image\n",
    "    instance_targs: list of M_i mask (0,1) target per image\n",
    "    '''\n",
    "    \n",
    "#     # for plotting\n",
    "#     fig,axes=plt.subplots(1,2)\n",
    "#     axes[0].imshow(np.concatenate(valid_instance_targs[i]))\n",
    "#     axes[1].imshow(np.concatenate(valid_instance_preds[i]))\n",
    "    \n",
    "    scores = []\n",
    "    for i in (range(len(instance_preds))):\n",
    "        if np.all(valid_instance_preds[i] == np.array(['-1'])): scores.append(0)\n",
    "        else:\n",
    "            m,_,_ = valid_instance_targs[i].shape\n",
    "            n,_,_ = valid_instance_preds[i].shape\n",
    "\n",
    "            targs = valid_instance_targs[i].reshape(m,-1)\n",
    "            preds = valid_instance_preds[i].reshape(n,-1)\n",
    "\n",
    "            # intersect: matrix of targ x preds (M, N)\n",
    "            intersect = ((targs[:,None,:]*preds[None,:,:]) > 0).sum(2)    \n",
    "            targs_area, preds_area = targs.sum(1), preds.sum(1)\n",
    "            union = targs_area[:, None] + preds_area[None,:]\n",
    "\n",
    "            dice = (2*intersect / union); dice\n",
    "            dice_scores = dice[linear_sum_assignment(1-dice)]\n",
    "            mean_dice_score = sum(dice_scores) / max(n, m) # unmatched gt or preds are counted as 0\n",
    "            scores.append(mean_dice_score)\n",
    "    return scores"
   ]
  },
  {
   "cell_type": "code",
   "execution_count": 164,
   "metadata": {},
   "outputs": [
    {
     "data": {
      "application/vnd.jupyter.widget-view+json": {
       "model_id": "2fb9665c38be4c65b3869601c70b3182",
       "version_major": 2,
       "version_minor": 0
      },
      "text/plain": [
       "HBox(children=(IntProgress(value=0, max=21), HTML(value='')))"
      ]
     },
     "metadata": {},
     "output_type": "display_data"
    },
    {
     "name": "stderr",
     "output_type": "stream",
     "text": [
      "/home/turgutluk/.conda/envs/my_fastai/lib/python3.7/site-packages/ipykernel_launcher.py:18: FutureWarning: elementwise comparison failed; returning scalar instead, but in the future will perform elementwise comparison\n"
     ]
    }
   ],
   "source": [
    "# at t = 0.5\n",
    "best_dice, best_seg_thres = 0, None\n",
    "\n",
    "for t in tqdm_notebook(np.linspace(0,1,21)):\n",
    "    valid_instance_preds = [prob2preds(prob, t) for prob in seg_valid_probs]\n",
    "    dice_score = np.mean(instance_dice(valid_instance_preds, valid_instance_targs))\n",
    "    if dice_score > best_dice: best_dice, best_seg_thres= dice_score, t"
   ]
  },
  {
   "cell_type": "code",
   "execution_count": 165,
   "metadata": {},
   "outputs": [
    {
     "data": {
      "text/plain": [
       "(0.3186035988035392, 0.30000000000000004)"
      ]
     },
     "execution_count": 165,
     "metadata": {},
     "output_type": "execute_result"
    }
   ],
   "source": [
    "best_dice, best_seg_thres"
   ]
  },
  {
   "cell_type": "markdown",
   "metadata": {},
   "source": [
    "### 2) Run clas on valid/test"
   ]
  },
  {
   "cell_type": "code",
   "execution_count": 166,
   "metadata": {},
   "outputs": [],
   "source": [
    "from sklearn.metrics import confusion_matrix"
   ]
  },
  {
   "cell_type": "code",
   "execution_count": 167,
   "metadata": {},
   "outputs": [],
   "source": [
    "clas_valid_probs, clas_valid_targs = clas_learn.get_preds(DatasetType.Valid)\n",
    "clas_test_probs, clas_test_targs = clas_learn.get_preds(DatasetType.Test)"
   ]
  },
  {
   "cell_type": "markdown",
   "metadata": {},
   "source": [
    "### 3) Grid search for best thres -  Calculate approx LB score "
   ]
  },
  {
   "cell_type": "code",
   "execution_count": 168,
   "metadata": {},
   "outputs": [],
   "source": [
    "def find_best_thres(best_dice=best_dice, best_seg_thres=best_seg_thres):\n",
    "    \"grid search cls_thres, seg_thres\"\n",
    "    best_score, best_cls_thres = 0, None\n",
    "    \n",
    "    for cls_thres in np.linspace(0,1,21):\n",
    "        clas_valid_hard = clas_valid_probs[:, 1] > cls_thres\n",
    "        cm = confusion_matrix(clas_valid_targs, clas_valid_hard)\n",
    "\n",
    "        P_0_0 = cm[0,0] / cm[0, :].sum()\n",
    "        P_1_1 = cm[1,1] / cm[1, :].sum()\n",
    "\n",
    "        # public LB ratios\n",
    "        R_1, R_0 = 0.7886, 0.2114\n",
    "        score_cls, score_seg = R_1*P_1_1, R_0*P_0_0*best_dice\n",
    "        total = score_cls + score_seg\n",
    "\n",
    "        # update\n",
    "        if total > best_score:\n",
    "            best_score, best_cls_thres  = total, cls_thres\n",
    "\n",
    "    return best_score, best_cls_thres, best_seg_thres"
   ]
  },
  {
   "cell_type": "code",
   "execution_count": 169,
   "metadata": {},
   "outputs": [],
   "source": [
    "best_score, best_cls_thres, best_seg_thres = find_best_thres()"
   ]
  },
  {
   "cell_type": "code",
   "execution_count": 170,
   "metadata": {},
   "outputs": [
    {
     "data": {
      "text/plain": [
       "(0.8016543733499933, 0.15000000000000002, 0.30000000000000004)"
      ]
     },
     "execution_count": 170,
     "metadata": {},
     "output_type": "execute_result"
    }
   ],
   "source": [
    "best_score, best_cls_thres, best_seg_thres"
   ]
  },
  {
   "cell_type": "markdown",
   "metadata": {},
   "source": [
    "### 4) Submit\n",
    "\n",
    "- Convert segmentation probas to binary \n",
    "- Resize to 1024, 1024\n",
    "- Separate instances\n",
    "- Convert individual masks to rle"
   ]
  },
  {
   "cell_type": "code",
   "execution_count": 171,
   "metadata": {},
   "outputs": [],
   "source": [
    "cls_thres, seg_thres = best_cls_thres, best_seg_thres"
   ]
  },
  {
   "cell_type": "code",
   "execution_count": 172,
   "metadata": {},
   "outputs": [
    {
     "data": {
      "text/plain": [
       "torch.Size([1377, 224, 224])"
      ]
     },
     "execution_count": 172,
     "metadata": {},
     "output_type": "execute_result"
    }
   ],
   "source": [
    "# convert all soft mask predictions to hard predictions\n",
    "seg_test_hard = (seg_test_probs[:,1,:,:] > seg_thres).squeeze(1); seg_test_hard.shape"
   ]
  },
  {
   "cell_type": "code",
   "execution_count": 173,
   "metadata": {},
   "outputs": [
    {
     "data": {
      "image/jpeg": "[encoded data removed]",
      "image/png": "[encoded data removed]",
      "text/plain": [
       "ImageSegment (1, 224, 224)"
      ]
     },
     "execution_count": 173,
     "metadata": {},
     "output_type": "execute_result"
    }
   ],
   "source": [
    "ImageSegment(seg_test_hard[4][None,:])"
   ]
  },
  {
   "cell_type": "code",
   "execution_count": 174,
   "metadata": {},
   "outputs": [],
   "source": [
    "def tensor2pil(t):\n",
    "    return (PIL.Image.fromarray((to_np(t)*255).astype(np.uint8), mode='L')\n",
    "                .resize((1024,1024), PIL.Image.NEAREST))"
   ]
  },
  {
   "cell_type": "code",
   "execution_count": 175,
   "metadata": {},
   "outputs": [],
   "source": [
    "def maskarray2rles(maskarray):\n",
    "    rles = []\n",
    "    labeled_maskarray = label(maskarray)\n",
    "    unique_labels = list(np.unique(labeled_maskarray)[1:])\n",
    "    for l in unique_labels:\n",
    "        rle = mask2rle((labeled_maskarray == l).astype(np.uint8)*255, *(1024,1024))\n",
    "        rles.append(rle)\n",
    "    return rles"
   ]
  },
  {
   "cell_type": "code",
   "execution_count": 176,
   "metadata": {},
   "outputs": [],
   "source": [
    "# extract test image ids\n",
    "test_image_ids = np.array([o.stem for o in seg_learn.data.test_ds.items])"
   ]
  },
  {
   "cell_type": "code",
   "execution_count": 177,
   "metadata": {},
   "outputs": [],
   "source": [
    "# find images to submit mask predictions for\n",
    "has_pneumo = to_np((clas_test_probs[:, 1] < cls_thres)).astype(bool)\n",
    "\n",
    "mask_test_image_ids = test_image_ids[has_pneumo]\n",
    "mask_test_hard = seg_test_hard[tensor(has_pneumo)]\n",
    "\n",
    "no_mask_test_image_ids = test_image_ids[~has_pneumo]"
   ]
  },
  {
   "cell_type": "code",
   "execution_count": 178,
   "metadata": {},
   "outputs": [
    {
     "data": {
      "text/plain": [
       "((132,), (1245,), torch.Size([132, 224, 224]))"
      ]
     },
     "execution_count": 178,
     "metadata": {},
     "output_type": "execute_result"
    }
   ],
   "source": [
    "mask_test_image_ids.shape, no_mask_test_image_ids.shape, mask_test_hard.shape"
   ]
  },
  {
   "cell_type": "code",
   "execution_count": 179,
   "metadata": {},
   "outputs": [
    {
     "data": {
      "application/vnd.jupyter.widget-view+json": {
       "model_id": "60837e8118af4fb5b036cc6d154d6e69",
       "version_major": 2,
       "version_minor": 0
      },
      "text/plain": [
       "HBox(children=(IntProgress(value=0, max=132), HTML(value='')))"
      ]
     },
     "metadata": {},
     "output_type": "display_data"
    }
   ],
   "source": [
    "# create rle for all test predictions\n",
    "all_image_ids = []\n",
    "all_rles = []\n",
    "for i in tqdm_notebook(range(len(mask_test_image_ids))):    \n",
    "    image_id, t = mask_test_image_ids[i], mask_test_hard[i]\n",
    "    maskimg = tensor2pil(t)\n",
    "    maskarray = np.asarray(maskimg).T\n",
    "    if len(np.unique(maskarray)) != 1: rles = maskarray2rles(maskarray)\n",
    "    else: rles = ['-1']\n",
    "    for rle in rles:\n",
    "        all_image_ids.append(image_id)\n",
    "        all_rles.append(rle)"
   ]
  },
  {
   "cell_type": "code",
   "execution_count": 180,
   "metadata": {
    "scrolled": true
   },
   "outputs": [
    {
     "data": {
      "text/plain": [
       "(283, 283)"
      ]
     },
     "execution_count": 180,
     "metadata": {},
     "output_type": "execute_result"
    }
   ],
   "source": [
    "len(all_image_ids), len(all_rles)"
   ]
  },
  {
   "cell_type": "code",
   "execution_count": 181,
   "metadata": {},
   "outputs": [],
   "source": [
    "sub1 = pd.DataFrame({\"ImageId\": all_image_ids, \"EncodedPixels\":all_rles})\n",
    "sub2 = pd.DataFrame({\"ImageId\": no_mask_test_image_ids, \"EncodedPixels\":\"-1\"})\n",
    "\n",
    "final_sub = pd.concat([sub1, sub2])\n",
    "final_sub.to_csv(\"sub.csv\", index=False)"
   ]
  },
  {
   "cell_type": "code",
   "execution_count": 182,
   "metadata": {
    "scrolled": true
   },
   "outputs": [],
   "source": [
    "sub2 = pd.DataFrame({\"ImageId\": no_mask_test_image_ids, \"EncodedPixels\":\"-1\"})"
   ]
  },
  {
   "cell_type": "code",
   "execution_count": 183,
   "metadata": {},
   "outputs": [],
   "source": [
    "final_sub = pd.concat([sub1, sub2])"
   ]
  },
  {
   "cell_type": "code",
   "execution_count": 184,
   "metadata": {},
   "outputs": [],
   "source": [
    "final_sub.to_csv(\"sub.csv\", index=False)"
   ]
  },
  {
   "cell_type": "code",
   "execution_count": 185,
   "metadata": {},
   "outputs": [],
   "source": [
    "from IPython.display import FileLink"
   ]
  },
  {
   "cell_type": "code",
   "execution_count": 150,
   "metadata": {},
   "outputs": [
    {
     "data": {
      "text/html": [
       "<a href='sub.csv' target='_blank'>sub.csv</a><br>"
      ],
      "text/plain": [
       "/home/turgutluk/git/siim_acr_pneu/sub.csv"
      ]
     },
     "execution_count": 150,
     "metadata": {},
     "output_type": "execute_result"
    }
   ],
   "source": [
    "FileLink(\"sub.csv\")"
   ]
  },
  {
   "cell_type": "code",
   "execution_count": null,
   "metadata": {},
   "outputs": [],
   "source": []
  }
 ],
 "metadata": {
  "kernelspec": {
   "display_name": "Python [conda env:my_fastai]",
   "language": "python",
   "name": "conda-env-my_fastai-py"
  },
  "language_info": {
   "codemirror_mode": {
    "name": "ipython",
    "version": 3
   },
   "file_extension": ".py",
   "mimetype": "text/x-python",
   "name": "python",
   "nbconvert_exporter": "python",
   "pygments_lexer": "ipython3",
   "version": "3.7.2"
  }
 },
 "nbformat": 4,
 "nbformat_minor": 2
}
