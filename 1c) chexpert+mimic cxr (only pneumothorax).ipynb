{
 "cells": [
  {
   "cell_type": "markdown",
   "metadata": {},
   "source": [
    "### note: implement auc metric "
   ]
  },
  {
   "cell_type": "markdown",
   "metadata": {},
   "source": [
    "Run `chexpert_dev/distributed_pneumothorax.py`"
   ]
  },
  {
   "cell_type": "markdown",
   "metadata": {},
   "source": [
    "### imports"
   ]
  },
  {
   "cell_type": "code",
   "execution_count": 1,
   "metadata": {},
   "outputs": [],
   "source": [
    "%reload_ext autoreload\n",
    "%autoreload 2"
   ]
  },
  {
   "cell_type": "code",
   "execution_count": 2,
   "metadata": {
    "_cell_guid": "b1076dfc-b9ad-4769-8c92-a6c4dae69d19",
    "_uuid": "8f2839f25d086af736a60e9eeb907d3b93b6e0e5"
   },
   "outputs": [
    {
     "data": {
      "text/plain": [
       "'1.0.55.dev0'"
      ]
     },
     "execution_count": 2,
     "metadata": {},
     "output_type": "execute_result"
    }
   ],
   "source": [
    "from fastai.vision import *\n",
    "import fastai; fastai.__version__"
   ]
  },
  {
   "cell_type": "code",
   "execution_count": 3,
   "metadata": {},
   "outputs": [],
   "source": [
    "chexpert_path = Path(\"../../data/chexpert/\")\n",
    "mimic_path = Path(\"../../data/mimic-cxr\")"
   ]
  },
  {
   "cell_type": "code",
   "execution_count": 4,
   "metadata": {
    "scrolled": true
   },
   "outputs": [
    {
     "data": {
      "text/plain": [
       "[PosixPath('../../data/chexpert/models'),\n",
       " PosixPath('../../data/chexpert/CheXpert-v1.0.zip'),\n",
       " PosixPath('../../data/chexpert/CheXpert-v1.0-small')]"
      ]
     },
     "execution_count": 4,
     "metadata": {},
     "output_type": "execute_result"
    }
   ],
   "source": [
    "chexpert_path.ls()"
   ]
  },
  {
   "cell_type": "code",
   "execution_count": 5,
   "metadata": {},
   "outputs": [
    {
     "data": {
      "text/plain": [
       "[PosixPath('../../data/mimic-cxr/train'),\n",
       " PosixPath('../../data/mimic-cxr/chx_mimic_valid_320.csv'),\n",
       " PosixPath('../../data/mimic-cxr/chx_mimic_train_320.csv'),\n",
       " PosixPath('../../data/mimic-cxr/valid'),\n",
       " PosixPath('../../data/mimic-cxr/valid_320'),\n",
       " PosixPath('../../data/mimic-cxr/train.csv'),\n",
       " PosixPath('../../data/mimic-cxr/train_320'),\n",
       " PosixPath('../../data/mimic-cxr/valid.csv')]"
      ]
     },
     "execution_count": 5,
     "metadata": {},
     "output_type": "execute_result"
    }
   ],
   "source": [
    "mimic_path.ls()"
   ]
  },
  {
   "cell_type": "code",
   "execution_count": 6,
   "metadata": {},
   "outputs": [],
   "source": [
    "torch.cuda.set_device(3)"
   ]
  },
  {
   "cell_type": "markdown",
   "metadata": {},
   "source": [
    "### databunch "
   ]
  },
  {
   "cell_type": "code",
   "execution_count": 7,
   "metadata": {},
   "outputs": [],
   "source": [
    "train_df = pd.read_csv(mimic_path/\"chx_mimic_train_320.csv\")\n",
    "valid_df = pd.read_csv(mimic_path/\"chx_mimic_valid_320.csv\")"
   ]
  },
  {
   "cell_type": "code",
   "execution_count": 8,
   "metadata": {},
   "outputs": [],
   "source": [
    "cols = ['Path', 'Pneumothorax']"
   ]
  },
  {
   "cell_type": "code",
   "execution_count": 13,
   "metadata": {},
   "outputs": [],
   "source": [
    "# only pneumothorax\n",
    "train_df, valid_df = train_df[cols], valid_df[cols]\n",
    "train_valid_df = pd.concat([train_df, valid_df])"
   ]
  },
  {
   "cell_type": "code",
   "execution_count": 14,
   "metadata": {},
   "outputs": [
    {
     "data": {
      "text/plain": [
       "-1.0    447007\n",
       " 0.0    114601\n",
       " 1.0     33898\n",
       "Name: Pneumothorax, dtype: int64"
      ]
     },
     "execution_count": 14,
     "metadata": {},
     "output_type": "execute_result"
    }
   ],
   "source": [
    "train_valid_df.Pneumothorax.value_counts()"
   ]
  },
  {
   "cell_type": "code",
   "execution_count": 15,
   "metadata": {},
   "outputs": [
    {
     "data": {
      "text/plain": [
       "-1.0    0.750634\n",
       " 0.0    0.192443\n",
       " 1.0    0.056923\n",
       "Name: Pneumothorax, dtype: float64"
      ]
     },
     "execution_count": 15,
     "metadata": {},
     "output_type": "execute_result"
    }
   ],
   "source": [
    "train_valid_df.Pneumothorax.value_counts(normalize=True)"
   ]
  },
  {
   "cell_type": "code",
   "execution_count": 16,
   "metadata": {},
   "outputs": [],
   "source": [
    "# binary classification\n",
    "# train_valid_df = train_valid_df[train_valid_df.Pneumothorax != -1].reset_index(drop=True)\n",
    "# train_valid_df.Pneumothorax.value_counts(normalize=True)"
   ]
  },
  {
   "cell_type": "code",
   "execution_count": 19,
   "metadata": {},
   "outputs": [],
   "source": [
    "sz,bs=320,64\n",
    "data_path = Path(\"../../data\")"
   ]
  },
  {
   "cell_type": "code",
   "execution_count": 20,
   "metadata": {
    "scrolled": true
   },
   "outputs": [],
   "source": [
    "tfms = get_transforms()\n",
    "pretrained = True\n",
    "\n",
    "data = (ImageList.from_df(train_valid_df, data_path, cols=['Path'])\n",
    "        .split_by_rand_pct(valid_pct=0.02, seed=42)\n",
    "        .label_from_df(label_cls=CategoryList)\n",
    "        .transform(tfms, size=sz)\n",
    "        .databunch(bs=bs, num_workers=32))\n",
    "data = data.normalize(imagenet_stats) if pretrained else data.normalize()"
   ]
  },
  {
   "cell_type": "code",
   "execution_count": 21,
   "metadata": {},
   "outputs": [
    {
     "data": {
      "text/plain": [
       "([0.485, 0.456, 0.406], [0.229, 0.224, 0.225])"
      ]
     },
     "execution_count": 21,
     "metadata": {},
     "output_type": "execute_result"
    }
   ],
   "source": [
    "data.stats"
   ]
  },
  {
   "cell_type": "code",
   "execution_count": 62,
   "metadata": {},
   "outputs": [
    {
     "data": {
      "text/plain": [
       "([-1.0, 0.0, 1.0], 3)"
      ]
     },
     "execution_count": 62,
     "metadata": {},
     "output_type": "execute_result"
    }
   ],
   "source": [
    "data.classes, data.c"
   ]
  },
  {
   "cell_type": "code",
   "execution_count": 63,
   "metadata": {},
   "outputs": [
    {
     "data": {
      "text/plain": [
       "(Index(['No Finding', 'Enlarged Cardiomediastinum', 'Cardiomegaly',\n",
       "        'Lung Opacity', 'Lung Lesion', 'Edema', 'Consolidation', 'Pneumonia',\n",
       "        'Atelectasis', 'Pneumothorax', 'Pleural Effusion', 'Pleural Other',\n",
       "        'Fracture', 'Support Devices'],\n",
       "       dtype='object'), ([0.485, 0.456, 0.406], [0.229, 0.224, 0.225]))"
      ]
     },
     "execution_count": 63,
     "metadata": {},
     "output_type": "execute_result"
    }
   ],
   "source": [
    "# set data classes\n",
    "data.classes = label_columns\n",
    "data.classes, data.stats"
   ]
  },
  {
   "cell_type": "code",
   "execution_count": 22,
   "metadata": {
    "scrolled": true
   },
   "outputs": [],
   "source": [
    "# data.show_batch(3)"
   ]
  },
  {
   "cell_type": "code",
   "execution_count": 19,
   "metadata": {},
   "outputs": [],
   "source": [
    "# xb,yb = data.one_batch()\n",
    "# data.train_ds.y.c2i"
   ]
  },
  {
   "cell_type": "markdown",
   "metadata": {},
   "source": [
    "### model"
   ]
  },
  {
   "cell_type": "code",
   "execution_count": 33,
   "metadata": {},
   "outputs": [],
   "source": [
    "# from chexpert_dev.uignore import *"
   ]
  },
  {
   "cell_type": "code",
   "execution_count": 64,
   "metadata": {},
   "outputs": [],
   "source": [
    "pretrained = True\n",
    "# eps = 1e-4\n",
    "# opt_func= partial(optim.Adam, betas=(0.9,0.99), eps=eps)"
   ]
  },
  {
   "cell_type": "code",
   "execution_count": 65,
   "metadata": {},
   "outputs": [],
   "source": [
    "if pretrained: learn = cnn_learner(data, models.densenet121, pretrained=True).to_fp16()\n",
    "else: learn = Learner(data, models.xresnet34(c_out=data.c)).to_fp16()\n",
    "learn.metrics = [accuracy]"
   ]
  },
  {
   "cell_type": "code",
   "execution_count": 66,
   "metadata": {},
   "outputs": [],
   "source": [
    "# learn.lr_find()"
   ]
  },
  {
   "cell_type": "code",
   "execution_count": 67,
   "metadata": {
    "scrolled": true
   },
   "outputs": [],
   "source": [
    "# lr = learn.recorder.plot(suggestion=True)"
   ]
  },
  {
   "cell_type": "code",
   "execution_count": null,
   "metadata": {},
   "outputs": [],
   "source": [
    "lr = 3e-2\n",
    "if not pretrained:\n",
    "    # training from scratch\n",
    "    learn.fit_one_cycle(10, lr)\n",
    "else:\n",
    "    # # transfer learning\n",
    "    learn.fit_one_cycle(5, lr)\n",
    "    learn.freeze_to(-1)\n",
    "    learn.fit_one_cycle(5, slice(lr/5))\n",
    "    learn.unfreeze()\n",
    "    learn.fit_one_cycle(5, slice(lr/10))"
   ]
  },
  {
   "cell_type": "code",
   "execution_count": null,
   "metadata": {},
   "outputs": [],
   "source": [
    "if pretrained: learn.to_fp32().save(f\"chx-mimic-only-pneumo-densenet121-{sz}\")\n",
    "else: learn.to_fp32().save(f\"chx-mimic-only-pneumo-xresnet34-{sz}\""
   ]
  },
  {
   "cell_type": "code",
   "execution_count": null,
   "metadata": {},
   "outputs": [],
   "source": []
  }
 ],
 "metadata": {
  "kernelspec": {
   "display_name": "Python [conda env:my_fastai]",
   "language": "python",
   "name": "conda-env-my_fastai-py"
  },
  "language_info": {
   "codemirror_mode": {
    "name": "ipython",
    "version": 3
   },
   "file_extension": ".py",
   "mimetype": "text/x-python",
   "name": "python",
   "nbconvert_exporter": "python",
   "pygments_lexer": "ipython3",
   "version": "3.7.2"
  }
 },
 "nbformat": 4,
 "nbformat_minor": 2
}
