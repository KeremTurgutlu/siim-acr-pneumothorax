{
 "cells": [
  {
   "cell_type": "markdown",
   "metadata": {},
   "source": [
    "### imports"
   ]
  },
  {
   "cell_type": "code",
   "execution_count": 1,
   "metadata": {},
   "outputs": [],
   "source": [
    "%reload_ext autoreload\n",
    "%autoreload 2"
   ]
  },
  {
   "cell_type": "code",
   "execution_count": 2,
   "metadata": {
    "_cell_guid": "b1076dfc-b9ad-4769-8c92-a6c4dae69d19",
    "_uuid": "8f2839f25d086af736a60e9eeb907d3b93b6e0e5"
   },
   "outputs": [
    {
     "data": {
      "text/plain": [
       "'1.0.55.dev0'"
      ]
     },
     "execution_count": 2,
     "metadata": {},
     "output_type": "execute_result"
    }
   ],
   "source": [
    "from fastai.vision import *\n",
    "from fastai.vision.interpret import *\n",
    "import fastai; fastai.__version__"
   ]
  },
  {
   "cell_type": "code",
   "execution_count": 3,
   "metadata": {},
   "outputs": [
    {
     "data": {
      "text/plain": [
       "[PosixPath('../../data/siim_acr_pneu/train'),\n",
       " PosixPath('../../data/siim_acr_pneu/clas_df.csv'),\n",
       " PosixPath('../../data/siim_acr_pneu/dicom-images-test'),\n",
       " PosixPath('../../data/siim_acr_pneu/models'),\n",
       " PosixPath('../../data/siim_acr_pneu/dicom-images-train'),\n",
       " PosixPath('../../data/siim_acr_pneu/train-rle.csv'),\n",
       " PosixPath('../../data/siim_acr_pneu/seg_df.csv'),\n",
       " PosixPath('../../data/siim_acr_pneu/learn'),\n",
       " PosixPath('../../data/siim_acr_pneu/test')]"
      ]
     },
     "execution_count": 3,
     "metadata": {},
     "output_type": "execute_result"
    }
   ],
   "source": [
    "data_path = Path(\"../../data/siim_acr_pneu/\"); data_path.ls()"
   ]
  },
  {
   "cell_type": "code",
   "execution_count": 4,
   "metadata": {},
   "outputs": [],
   "source": [
    "torch.cuda.set_device(7)"
   ]
  },
  {
   "cell_type": "code",
   "execution_count": 5,
   "metadata": {},
   "outputs": [],
   "source": [
    "from mask_functions import *\n",
    "from skimage.measure import label"
   ]
  },
  {
   "cell_type": "markdown",
   "metadata": {},
   "source": [
    "### Workflow\n",
    "\n",
    "- 1) Run segmentation on all valid and test images\n",
    "- 2) Run classification on all test valid and images\n",
    "- 3) Find optimal thresh\n",
    "- 4) Submit"
   ]
  },
  {
   "cell_type": "code",
   "execution_count": 6,
   "metadata": {},
   "outputs": [],
   "source": [
    "# this is needed or div=False\n",
    "class SegmentationLabelList(SegmentationLabelList):\n",
    "    def open(self, fn): return open_mask(fn, div=True)\n",
    "\n",
    "class SegmentationItemList(SegmentationItemList):\n",
    "    _label_cls = SegmentationLabelList"
   ]
  },
  {
   "cell_type": "code",
   "execution_count": 7,
   "metadata": {},
   "outputs": [],
   "source": [
    "sz = 224"
   ]
  },
  {
   "cell_type": "code",
   "execution_count": 9,
   "metadata": {},
   "outputs": [],
   "source": [
    "torch.nn.Module.dump_patches = True"
   ]
  },
  {
   "cell_type": "code",
   "execution_count": 476,
   "metadata": {},
   "outputs": [],
   "source": [
    "clas_learn = Learner(**torch.load(data_path/f'learn/clas-chexpert-ft-resnet34-{sz}'))\n",
    "seg_learn = Learner(**torch.load(data_path/f'learn/seg-chexpert-ft-resnext34-{sz}'))"
   ]
  },
  {
   "cell_type": "markdown",
   "metadata": {},
   "source": [
    "### 1) Run seg on valid/test"
   ]
  },
  {
   "cell_type": "code",
   "execution_count": 429,
   "metadata": {},
   "outputs": [],
   "source": [
    "# Normal Preds\n",
    "seg_valid_probs, seg_valid_targs = seg_learn.get_preds(DatasetType.Valid)\n",
    "seg_test_probs, seg_test_targs = seg_learn.get_preds(DatasetType.Test)"
   ]
  },
  {
   "cell_type": "code",
   "execution_count": 430,
   "metadata": {},
   "outputs": [
    {
     "data": {
      "text/plain": [
       "<matplotlib.image.AxesImage at 0x7fbb6bdaacf8>"
      ]
     },
     "execution_count": 430,
     "metadata": {},
     "output_type": "execute_result"
    },
    {
     "data": {
      "image/png": "[encoded data removed]",
      "text/plain": [
       "<Figure size 432x288 with 1 Axes>"
      ]
     },
     "metadata": {
      "needs_background": "light"
     },
     "output_type": "display_data"
    }
   ],
   "source": [
    "plt.imshow(np.concatenate((seg_valid_probs[0][1], seg_valid_targs[0][0]), axis=1))"
   ]
  },
  {
   "cell_type": "code",
   "execution_count": 431,
   "metadata": {},
   "outputs": [],
   "source": [
    "from fastai.basic_train import _loss_func2activ\n",
    "def _seg_tta_only(learn:Learner, ds_type:DatasetType=DatasetType.Valid, scale:float=1.35) -> Iterator[List[Tensor]]:\n",
    "    \"Computes the outputs for non-flip and flip_lr augmented inputs\"\n",
    "    dl = learn.dl(ds_type)\n",
    "    ds = dl.dataset\n",
    "    old = ds.tfms\n",
    "    augm_tfm = [o for o in learn.data.train_ds.tfms if o.tfm not in\n",
    "               (crop_pad, flip_lr, dihedral, zoom)]\n",
    "    try:\n",
    "        pbar = master_bar(range(2))\n",
    "        for i in pbar:\n",
    "#             row = 1 if i&1 else 0\n",
    "#             col = 1 if i&2 else 0\n",
    "#             flip = i&4\n",
    "#             d = {'row_pct':row, 'col_pct':col, 'is_random':False}\n",
    "#             tfm = [*augm_tfm, zoom(scale=scale, **d), crop_pad(**d)]\n",
    "#             if flip: tfm.append(flip_lr(p=1.))\n",
    "            tfm = [] # to remove random crop resize aug\n",
    "            if i: tfm.append(flip_lr(p=1.))\n",
    "            ds.tfms = tfm\n",
    "            yield get_preds(learn.model, dl, pbar=pbar, activ=_loss_func2activ(learn.loss_func))[0]\n",
    "    finally: ds.tfms = old"
   ]
  },
  {
   "cell_type": "code",
   "execution_count": 434,
   "metadata": {},
   "outputs": [
    {
     "data": {
      "text/html": [
       "Total time: 00:17 <p>"
      ],
      "text/plain": [
       "<IPython.core.display.HTML object>"
      ]
     },
     "metadata": {},
     "output_type": "display_data"
    },
    {
     "data": {
      "text/html": [
       "Total time: 00:34 <p>"
      ],
      "text/plain": [
       "<IPython.core.display.HTML object>"
      ]
     },
     "metadata": {},
     "output_type": "display_data"
    }
   ],
   "source": [
    "# flip_lr TTA preds\n",
    "non_flip_preds, flip_preds = list(_seg_tta_only(seg_learn, ds_type=DatasetType.Valid, scale=1))\n",
    "preds1, preds2 = non_flip_preds, torch.stack([torch.flip(o, dims=[-1]) for o in flip_preds], dim=0)\n",
    "seg_valid_probs = (preds1 + preds2)/2\n",
    "\n",
    "non_flip_preds, flip_preds = list(_seg_tta_only(seg_learn, ds_type=DatasetType.Test, scale=1))\n",
    "preds1, preds2 = non_flip_preds, torch.stack([torch.flip(o, dims=[-1]) for o in flip_preds], dim=0)\n",
    "seg_test_probs = (preds1 + preds2)/2"
   ]
  },
  {
   "cell_type": "code",
   "execution_count": 435,
   "metadata": {},
   "outputs": [
    {
     "data": {
      "text/plain": [
       "<matplotlib.image.AxesImage at 0x7fbb6bd94f60>"
      ]
     },
     "execution_count": 435,
     "metadata": {},
     "output_type": "execute_result"
    },
    {
     "data": {
      "image/png": "[encoded data removed]",
      "text/plain": [
       "<Figure size 432x288 with 1 Axes>"
      ]
     },
     "metadata": {
      "needs_background": "light"
     },
     "output_type": "display_data"
    }
   ],
   "source": [
    "plt.imshow(np.concatenate((seg_valid_probs[0][1], seg_valid_targs[0][0]), axis=1))"
   ]
  },
  {
   "cell_type": "code",
   "execution_count": null,
   "metadata": {},
   "outputs": [],
   "source": []
  },
  {
   "cell_type": "markdown",
   "metadata": {},
   "source": [
    "### 1a) Semantic Dice (deprecated)"
   ]
  },
  {
   "cell_type": "code",
   "execution_count": 438,
   "metadata": {},
   "outputs": [],
   "source": [
    "# def semantic_dice(input, target, t):\n",
    "#     '''\n",
    "#     semantic dice score with threshold \n",
    "#     input: 1 mask probability per image\n",
    "#     target: 1 mask target per image\n",
    "#     '''\n",
    "#     input_hard = input[:,1,:,:] > t\n",
    "#     n = input_hard.shape[0]\n",
    "#     inputs = input_hard.float().view(n,-1)\n",
    "#     targs = target.float().view(n,-1)\n",
    "#     intersect = (inputs * targs).sum()\n",
    "#     union = (inputs+targs).sum()\n",
    "#     dice = ((2. * intersect) / union)\n",
    "#     return dice\n",
    "\n",
    "# # dice scores at different probability thresholds\n",
    "# for t in np.linspace(0,1,21):\n",
    "#     d = semantic_dice(seg_valid_probs, seg_valid_targs, t=t)\n",
    "#     print(t, d)"
   ]
  },
  {
   "cell_type": "markdown",
   "metadata": {},
   "source": [
    "### 1b) Instance Dice"
   ]
  },
  {
   "cell_type": "code",
   "execution_count": 439,
   "metadata": {},
   "outputs": [],
   "source": [
    "# rles for each validation image\n",
    "train_rle_df = pd.read_csv(data_path/'train-rle.csv')\n",
    "valid_image_ids = [Path(o).stem for o in seg_learn.data.valid_ds.items]\n",
    "valid_rle_dict = {o:train_rle_df[train_rle_df.ImageId == o][' EncodedPixels'].values for o in valid_image_ids}"
   ]
  },
  {
   "cell_type": "code",
   "execution_count": 440,
   "metadata": {},
   "outputs": [],
   "source": [
    "def rles2masks(rles):\n",
    "    'convert rles into list of (1024,1024) binary (0,1) masks'\n",
    "    masks = []\n",
    "    for rle in rles:\n",
    "        maskimg = PIL.Image.fromarray(rle2mask(rle, 1024, 1024).T.astype(np.uint8))\n",
    "        assert np.all(np.unique(np.asarray(maskimg)) == np.array([0,255]))\n",
    "        masks.append((np.asarray(maskimg)/255).astype(np.uint8))\n",
    "    return masks"
   ]
  },
  {
   "cell_type": "code",
   "execution_count": 441,
   "metadata": {},
   "outputs": [
    {
     "data": {
      "text/plain": [
       "237"
      ]
     },
     "execution_count": 441,
     "metadata": {},
     "output_type": "execute_result"
    }
   ],
   "source": [
    "# create masks for all validation images\n",
    "valid_instance_targs = [np.array(rles2masks(valid_rle_dict[k])) for k in valid_image_ids]\n",
    "len(valid_instance_targs)"
   ]
  },
  {
   "cell_type": "code",
   "execution_count": 442,
   "metadata": {},
   "outputs": [
    {
     "data": {
      "image/png": "[encoded data removed]",
      "text/plain": [
       "<Figure size 432x288 with 1 Axes>"
      ]
     },
     "metadata": {
      "needs_background": "light"
     },
     "output_type": "display_data"
    }
   ],
   "source": [
    "# test\n",
    "masks = valid_instance_targs[0]\n",
    "for m in masks: assert np.all(np.unique(m) == np.array([0,1]))\n",
    "plt.imshow(np.concatenate(masks));"
   ]
  },
  {
   "cell_type": "code",
   "execution_count": 443,
   "metadata": {},
   "outputs": [
    {
     "data": {
      "text/plain": [
       "torch.Size([1377, 2, 224, 224])"
      ]
     },
     "execution_count": 443,
     "metadata": {},
     "output_type": "execute_result"
    }
   ],
   "source": [
    "seg_test_probs.shape"
   ]
  },
  {
   "cell_type": "code",
   "execution_count": 444,
   "metadata": {},
   "outputs": [],
   "source": [
    "def prob2preds(prob, t, removal_thres=100):\n",
    "    '''\n",
    "    create instance preds from single mask probs \n",
    "    removal_thres: remove an instance pred if # of total pixels < removal_thres\n",
    "    '''\n",
    "    input_hard = prob[1,:,:] > t\n",
    "    label_image = label(input_hard)\n",
    "    unique_labels = np.unique(label_image)[1:]\n",
    "    if len(unique_labels) > 0:\n",
    "        instance_preds = [(label_image == l).astype(np.uint8) for l in unique_labels]\n",
    "        instance_preds_resized = [np.asarray(PIL.Image.fromarray(arr).resize((1024,1024), \n",
    "                                    resample=PIL.Image.NEAREST)) for arr in instance_preds]\n",
    "        # remove tiny instance preds\n",
    "        if removal_thres is not None:\n",
    "            instance_preds_resized = [arr for arr in instance_preds_resized if np.sum(arr) > removal_thres]\n",
    "            if len(instance_preds_resized) == 0: instance_preds_resized = ['-1']\n",
    "    else: instance_preds_resized = ['-1']\n",
    "\n",
    "    return np.array(instance_preds_resized)"
   ]
  },
  {
   "cell_type": "code",
   "execution_count": 445,
   "metadata": {},
   "outputs": [],
   "source": [
    "t = 0.3\n",
    "valid_instance_preds = [prob2preds(prob, t, removal_thres=100) for prob in seg_valid_probs]"
   ]
  },
  {
   "cell_type": "code",
   "execution_count": 452,
   "metadata": {},
   "outputs": [
    {
     "name": "stderr",
     "output_type": "stream",
     "text": [
      "/home/turgutluk/.conda/envs/my_fastai/lib/python3.7/site-packages/ipykernel_launcher.py:5: FutureWarning: elementwise comparison failed; returning scalar instead, but in the future will perform elementwise comparison\n",
      "  \"\"\"\n"
     ]
    },
    {
     "data": {
      "image/png": "[encoded data removed]",
      "text/plain": [
       "<Figure size 432x288 with 2 Axes>"
      ]
     },
     "metadata": {
      "needs_background": "light"
     },
     "output_type": "display_data"
    }
   ],
   "source": [
    "# test\n",
    "i = np.random.choice(range(len(valid_instance_preds)))\n",
    "masks = valid_instance_preds[i]\n",
    "targ = valid_instance_targs[i]\n",
    "if masks != '-1':\n",
    "    for m in masks: assert np.all(np.unique(m) == np.array([0,1]))\n",
    "    fig, ax = plt.subplots(1,2)\n",
    "    ax[0].imshow(np.concatenate(masks)); ax[1].imshow(targ[0]);"
   ]
  },
  {
   "cell_type": "code",
   "execution_count": 453,
   "metadata": {},
   "outputs": [],
   "source": [
    "from scipy.optimize import linear_sum_assignment\n",
    "from tqdm import tqdm_notebook\n",
    "\n",
    "def instance_dice(instance_preds, instance_targs):\n",
    "    '''\n",
    "    instance dice score with threshold \n",
    "    instance_preds: list of N_i mask (0,1) per image\n",
    "    instance_targs: list of M_i mask (0,1) target per image\n",
    "    '''\n",
    "    \n",
    "#     # for plotting\n",
    "#     fig,axes=plt.subplots(1,2)\n",
    "#     axes[0].imshow(np.concatenate(valid_instance_targs[i]))\n",
    "#     axes[1].imshow(np.concatenate(valid_instance_preds[i]))\n",
    "    \n",
    "    scores = []\n",
    "    for i in (range(len(instance_preds))):\n",
    "        if np.all(valid_instance_preds[i] == np.array(['-1'])): scores.append(0)\n",
    "        else:\n",
    "            m,_,_ = valid_instance_targs[i].shape\n",
    "            n,_,_ = valid_instance_preds[i].shape\n",
    "\n",
    "            targs = valid_instance_targs[i].reshape(m,-1)\n",
    "            preds = valid_instance_preds[i].reshape(n,-1)\n",
    "\n",
    "            # intersect: matrix of targ x preds (M, N)\n",
    "            intersect = ((targs[:,None,:]*preds[None,:,:]) > 0).sum(2)    \n",
    "            targs_area, preds_area = targs.sum(1), preds.sum(1)\n",
    "            union = targs_area[:, None] + preds_area[None,:]\n",
    "\n",
    "            dice = (2*intersect / union); dice\n",
    "            dice_scores = dice[linear_sum_assignment(1-dice)]\n",
    "            mean_dice_score = sum(dice_scores) / max(n, m) # unmatched gt or preds are counted as 0\n",
    "            scores.append(mean_dice_score)\n",
    "    return scores"
   ]
  },
  {
   "cell_type": "code",
   "execution_count": 454,
   "metadata": {},
   "outputs": [
    {
     "data": {
      "application/vnd.jupyter.widget-view+json": {
       "model_id": "cbc476f7020543f3b5aed3980b03e02b",
       "version_major": 2,
       "version_minor": 0
      },
      "text/plain": [
       "HBox(children=(IntProgress(value=0, max=21), HTML(value='')))"
      ]
     },
     "metadata": {},
     "output_type": "display_data"
    },
    {
     "name": "stderr",
     "output_type": "stream",
     "text": [
      "/home/turgutluk/.conda/envs/my_fastai/lib/python3.7/site-packages/ipykernel_launcher.py:18: FutureWarning: elementwise comparison failed; returning scalar instead, but in the future will perform elementwise comparison\n"
     ]
    },
    {
     "data": {
      "application/vnd.jupyter.widget-view+json": {
       "model_id": "343be78493e4428fb92d22f09c7e0570",
       "version_major": 2,
       "version_minor": 0
      },
      "text/plain": [
       "HBox(children=(IntProgress(value=0, max=21), HTML(value='')))"
      ]
     },
     "metadata": {},
     "output_type": "display_data"
    },
    {
     "data": {
      "application/vnd.jupyter.widget-view+json": {
       "model_id": "173feb8f5d6644b3a904c2534624982c",
       "version_major": 2,
       "version_minor": 0
      },
      "text/plain": [
       "HBox(children=(IntProgress(value=0, max=21), HTML(value='')))"
      ]
     },
     "metadata": {},
     "output_type": "display_data"
    },
    {
     "data": {
      "application/vnd.jupyter.widget-view+json": {
       "model_id": "66d0d0fb91fa4b0c8b9ee7fc77dde8b2",
       "version_major": 2,
       "version_minor": 0
      },
      "text/plain": [
       "HBox(children=(IntProgress(value=0, max=21), HTML(value='')))"
      ]
     },
     "metadata": {},
     "output_type": "display_data"
    },
    {
     "data": {
      "application/vnd.jupyter.widget-view+json": {
       "model_id": "2c1ed088b9e94d39ac2f0a1c957c3a04",
       "version_major": 2,
       "version_minor": 0
      },
      "text/plain": [
       "HBox(children=(IntProgress(value=0, max=21), HTML(value='')))"
      ]
     },
     "metadata": {},
     "output_type": "display_data"
    },
    {
     "data": {
      "application/vnd.jupyter.widget-view+json": {
       "model_id": "3742e76d60464d729f3287c4e0d17af3",
       "version_major": 2,
       "version_minor": 0
      },
      "text/plain": [
       "HBox(children=(IntProgress(value=0, max=21), HTML(value='')))"
      ]
     },
     "metadata": {},
     "output_type": "display_data"
    },
    {
     "data": {
      "application/vnd.jupyter.widget-view+json": {
       "model_id": "a0f3fad536ef49f0a7c03a0d3cc3ac46",
       "version_major": 2,
       "version_minor": 0
      },
      "text/plain": [
       "HBox(children=(IntProgress(value=0, max=21), HTML(value='')))"
      ]
     },
     "metadata": {},
     "output_type": "display_data"
    },
    {
     "data": {
      "application/vnd.jupyter.widget-view+json": {
       "model_id": "d81c76b8cf26474b95acc7370d4b24ae",
       "version_major": 2,
       "version_minor": 0
      },
      "text/plain": [
       "HBox(children=(IntProgress(value=0, max=21), HTML(value='')))"
      ]
     },
     "metadata": {},
     "output_type": "display_data"
    },
    {
     "data": {
      "application/vnd.jupyter.widget-view+json": {
       "model_id": "3a43ad97518749f4b50ae11c84511489",
       "version_major": 2,
       "version_minor": 0
      },
      "text/plain": [
       "HBox(children=(IntProgress(value=0, max=21), HTML(value='')))"
      ]
     },
     "metadata": {},
     "output_type": "display_data"
    },
    {
     "data": {
      "application/vnd.jupyter.widget-view+json": {
       "model_id": "302a30ccd07249109c1a2115764b2b9f",
       "version_major": 2,
       "version_minor": 0
      },
      "text/plain": [
       "HBox(children=(IntProgress(value=0, max=21), HTML(value='')))"
      ]
     },
     "metadata": {},
     "output_type": "display_data"
    }
   ],
   "source": [
    "# at t = 0.5\n",
    "best_dice, best_seg_thres, best_removal_thres = 0, None, None\n",
    "dice_scores = {}\n",
    "for removal_t in np.arange(0, 2000, 200):\n",
    "    for t in tqdm_notebook(np.linspace(0,1,21)):\n",
    "        valid_instance_preds = [prob2preds(prob, t, removal_thres=removal_t) for prob in seg_valid_probs]\n",
    "        dice_score = np.mean(instance_dice(valid_instance_preds, valid_instance_targs))\n",
    "        if dice_score > best_dice: best_dice, best_seg_thres, best_removal_thres= dice_score, t, removal_t\n",
    "        dice_scores[t] = dice_score"
   ]
  },
  {
   "cell_type": "code",
   "execution_count": 455,
   "metadata": {},
   "outputs": [
    {
     "name": "stdout",
     "output_type": "stream",
     "text": [
      "0.3984740533624218 0.25 1000\n"
     ]
    },
    {
     "data": {
      "text/plain": [
       "{0.0: 0.0021079666069327846,\n",
       " 0.05: 0.27308106378075425,\n",
       " 0.1: 0.3542908769317951,\n",
       " 0.15000000000000002: 0.3824053792434275,\n",
       " 0.2: 0.39560692578509793,\n",
       " 0.25: 0.3982179985123133,\n",
       " 0.30000000000000004: 0.38689200872002905,\n",
       " 0.35000000000000003: 0.369859235200378,\n",
       " 0.4: 0.3485473020823702,\n",
       " 0.45: 0.30518713408292936,\n",
       " 0.5: 0.25765358827535756,\n",
       " 0.55: 0.2182279533097275,\n",
       " 0.6000000000000001: 0.18737996384005204,\n",
       " 0.65: 0.15031058280850368,\n",
       " 0.7000000000000001: 0.11739504481803656,\n",
       " 0.75: 0.08981849828388944,\n",
       " 0.8: 0.06573782333709348,\n",
       " 0.8500000000000001: 0.048686309369109206,\n",
       " 0.9: 0.034247545916423185,\n",
       " 0.9500000000000001: 0.009894849957401149,\n",
       " 1.0: 0.0}"
      ]
     },
     "execution_count": 455,
     "metadata": {},
     "output_type": "execute_result"
    }
   ],
   "source": [
    "print(best_dice, best_seg_thres, best_removal_thres)\n",
    "dice_scores"
   ]
  },
  {
   "cell_type": "markdown",
   "metadata": {},
   "source": [
    "### 2) Run clas on valid/test"
   ]
  },
  {
   "cell_type": "code",
   "execution_count": 193,
   "metadata": {},
   "outputs": [],
   "source": [
    "from sklearn.metrics import confusion_matrix"
   ]
  },
  {
   "cell_type": "code",
   "execution_count": 26,
   "metadata": {},
   "outputs": [],
   "source": [
    "# Normal Preds\n",
    "clas_valid_probs, clas_valid_targs = clas_learn.get_preds(DatasetType.Valid)\n",
    "clas_test_probs, clas_test_targs = clas_learn.get_preds(DatasetType.Test)"
   ]
  },
  {
   "cell_type": "code",
   "execution_count": 477,
   "metadata": {},
   "outputs": [
    {
     "data": {
      "text/html": [
       "Total time: 01:04 <p>"
      ],
      "text/plain": [
       "<IPython.core.display.HTML object>"
      ]
     },
     "metadata": {},
     "output_type": "display_data"
    }
   ],
   "source": [
    "# TTA\n",
    "clas_valid_probs, clas_valid_targs = clas_learn.TTA(beta=0.4, scale=1, ds_type=DatasetType.Valid)\n",
    "clas_test_probs, clas_test_targs = clas_learn.TTA(beta=0.4, scale=1, ds_type=DatasetType.Test)"
   ]
  },
  {
   "cell_type": "code",
   "execution_count": 479,
   "metadata": {},
   "outputs": [
    {
     "data": {
      "text/plain": [
       "(tensor([[5.1396e-01, 4.8604e-01],\n",
       "         [4.1681e-03, 9.9583e-01],\n",
       "         [1.7890e-02, 9.8211e-01],\n",
       "         ...,\n",
       "         [4.4993e-01, 5.5007e-01],\n",
       "         [1.0095e-02, 9.8991e-01],\n",
       "         [1.9587e-04, 9.9980e-01]]), tensor([0, 1, 1,  ..., 1, 1, 1]))"
      ]
     },
     "execution_count": 479,
     "metadata": {},
     "output_type": "execute_result"
    }
   ],
   "source": [
    "clas_valid_probs, clas_valid_targs"
   ]
  },
  {
   "cell_type": "markdown",
   "metadata": {},
   "source": [
    "### 3) Grid search for best thres -  Calculate approx LB score "
   ]
  },
  {
   "cell_type": "code",
   "execution_count": 480,
   "metadata": {},
   "outputs": [],
   "source": [
    "def find_best_thres(best_dice=best_dice, best_seg_thres=best_seg_thres, best_removal_thres=best_removal_thres):\n",
    "    \"grid search for only cls_thres\"\n",
    "    best_score, best_cls_thres = 0, None\n",
    "    \n",
    "    for cls_thres in np.linspace(0,1,21):\n",
    "        clas_valid_hard = clas_valid_probs[:, 1] > cls_thres\n",
    "        cm = confusion_matrix(clas_valid_targs, clas_valid_hard)\n",
    "\n",
    "        P_0_0 = cm[0,0] / cm[0, :].sum()\n",
    "        P_1_1 = cm[1,1] / cm[1, :].sum()\n",
    "\n",
    "        # public LB ratios\n",
    "        R_1, R_0 = 0.7886, 0.2114\n",
    "        score_cls, score_seg = R_1*P_1_1, R_0*P_0_0*best_dice\n",
    "        total = score_cls + score_seg\n",
    "\n",
    "        # update\n",
    "        if total > best_score:\n",
    "            best_score, best_cls_thres  = total, cls_thres\n",
    "\n",
    "    return best_score, best_cls_thres, best_seg_thres, best_removal_thres"
   ]
  },
  {
   "cell_type": "code",
   "execution_count": 481,
   "metadata": {},
   "outputs": [
    {
     "name": "stdout",
     "output_type": "stream",
     "text": [
      "0.8208691300412049 0.2 0.25\n"
     ]
    }
   ],
   "source": [
    "best_score, best_cls_thres, best_seg_thres, best_removal_thres = find_best_thres()\n",
    "print(best_score, best_cls_thres, best_seg_thres)"
   ]
  },
  {
   "cell_type": "markdown",
   "metadata": {},
   "source": [
    "### 4) Submit\n",
    "\n",
    "- Convert segmentation probas to binary \n",
    "- Resize to 1024, 1024\n",
    "- Separate instances\n",
    "- Convert individual masks to rle"
   ]
  },
  {
   "cell_type": "code",
   "execution_count": 482,
   "metadata": {},
   "outputs": [
    {
     "data": {
      "text/plain": [
       "(0.2, 0.25, 1000)"
      ]
     },
     "execution_count": 482,
     "metadata": {},
     "output_type": "execute_result"
    }
   ],
   "source": [
    "cls_thres, seg_thres, removal_thres = best_cls_thres, best_seg_thres, best_removal_thres\n",
    "cls_thres, seg_thres, removal_thres"
   ]
  },
  {
   "cell_type": "code",
   "execution_count": 483,
   "metadata": {},
   "outputs": [
    {
     "data": {
      "text/plain": [
       "torch.Size([1377, 224, 224])"
      ]
     },
     "execution_count": 483,
     "metadata": {},
     "output_type": "execute_result"
    }
   ],
   "source": [
    "# convert all soft mask predictions to hard predictions\n",
    "seg_test_hard = (seg_test_probs[:,1,:,:] > seg_thres).squeeze(1); seg_test_hard.shape"
   ]
  },
  {
   "cell_type": "code",
   "execution_count": 484,
   "metadata": {},
   "outputs": [
    {
     "data": {
      "image/jpeg": "[encoded data removed]",
      "image/png": "[encoded data removed]",
      "text/plain": [
       "ImageSegment (1, 224, 224)"
      ]
     },
     "execution_count": 484,
     "metadata": {},
     "output_type": "execute_result"
    }
   ],
   "source": [
    "ImageSegment(seg_test_hard[4][None,:])"
   ]
  },
  {
   "cell_type": "code",
   "execution_count": 485,
   "metadata": {},
   "outputs": [],
   "source": [
    "# extract test image ids\n",
    "test_image_ids = np.array([o.stem for o in seg_learn.data.test_ds.items])"
   ]
  },
  {
   "cell_type": "code",
   "execution_count": 486,
   "metadata": {},
   "outputs": [],
   "source": [
    "# find images to submit mask predictions for\n",
    "has_pneumo = to_np((clas_test_probs[:, 1] < cls_thres)).astype(bool)\n",
    "\n",
    "mask_test_image_ids = test_image_ids[has_pneumo]\n",
    "mask_test_hard = seg_test_hard[tensor(has_pneumo)]\n",
    "\n",
    "no_mask_test_image_ids = test_image_ids[~has_pneumo]"
   ]
  },
  {
   "cell_type": "code",
   "execution_count": 487,
   "metadata": {},
   "outputs": [
    {
     "data": {
      "text/plain": [
       "((159,), (1218,), torch.Size([159, 224, 224]))"
      ]
     },
     "execution_count": 487,
     "metadata": {},
     "output_type": "execute_result"
    }
   ],
   "source": [
    "mask_test_image_ids.shape, no_mask_test_image_ids.shape, mask_test_hard.shape"
   ]
  },
  {
   "cell_type": "code",
   "execution_count": 488,
   "metadata": {},
   "outputs": [],
   "source": [
    "def tensor2pil(t):\n",
    "    return (PIL.Image.fromarray((to_np(t)*255).astype(np.uint8), mode='L')\n",
    "                .resize((1024,1024), PIL.Image.NEAREST))"
   ]
  },
  {
   "cell_type": "code",
   "execution_count": 489,
   "metadata": {},
   "outputs": [],
   "source": [
    "def maskarray2rles(maskarray, removal_thres=None):\n",
    "    rles = []\n",
    "    labeled_maskarray = label(maskarray)\n",
    "    unique_labels = list(np.unique(labeled_maskarray)[1:])\n",
    "    for l in unique_labels:\n",
    "        m = (labeled_maskarray == l).astype(np.uint8)\n",
    "        if (removal_thres is not None) and (np.sum(m) <= removal_thres):\n",
    "            continue\n",
    "        else:\n",
    "            rle = mask2rle(m*255, *(1024,1024))\n",
    "            rles.append(rle)\n",
    "    if len(rles) == 0: rles = ['-1']\n",
    "    return rles"
   ]
  },
  {
   "cell_type": "code",
   "execution_count": 490,
   "metadata": {},
   "outputs": [
    {
     "data": {
      "application/vnd.jupyter.widget-view+json": {
       "model_id": "235c400d2a0e4223892be82bf0bfe149",
       "version_major": 2,
       "version_minor": 0
      },
      "text/plain": [
       "HBox(children=(IntProgress(value=0, max=159), HTML(value='')))"
      ]
     },
     "metadata": {},
     "output_type": "display_data"
    }
   ],
   "source": [
    "# create rle for all test predictions\n",
    "all_image_ids = []\n",
    "all_rles = []\n",
    "for i in tqdm_notebook(range(len(mask_test_image_ids))):    \n",
    "    image_id, t = mask_test_image_ids[i], mask_test_hard[i]\n",
    "    maskimg = tensor2pil(t)\n",
    "    maskarray = np.asarray(maskimg).T\n",
    "    if len(np.unique(maskarray)) != 1: rles = maskarray2rles(maskarray, removal_thres=best_removal_thres)\n",
    "    else: rles = ['-1']\n",
    "    for rle in rles:\n",
    "        all_image_ids.append(image_id)\n",
    "        all_rles.append(rle)"
   ]
  },
  {
   "cell_type": "code",
   "execution_count": 491,
   "metadata": {
    "scrolled": true
   },
   "outputs": [
    {
     "data": {
      "text/plain": [
       "(234, 234)"
      ]
     },
     "execution_count": 491,
     "metadata": {},
     "output_type": "execute_result"
    }
   ],
   "source": [
    "len(all_image_ids), len(all_rles)"
   ]
  },
  {
   "cell_type": "code",
   "execution_count": 492,
   "metadata": {},
   "outputs": [],
   "source": [
    "sub1 = pd.DataFrame({\"ImageId\": all_image_ids, \"EncodedPixels\":all_rles})\n",
    "sub2 = pd.DataFrame({\"ImageId\": no_mask_test_image_ids, \"EncodedPixels\":\"-1\"})\n",
    "\n",
    "final_sub = pd.concat([sub1, sub2])\n",
    "final_sub.to_csv(\"sub.csv\", index=False)"
   ]
  },
  {
   "cell_type": "code",
   "execution_count": 493,
   "metadata": {
    "scrolled": true
   },
   "outputs": [],
   "source": [
    "sub2 = pd.DataFrame({\"ImageId\": no_mask_test_image_ids, \"EncodedPixels\":\"-1\"})"
   ]
  },
  {
   "cell_type": "code",
   "execution_count": 494,
   "metadata": {},
   "outputs": [],
   "source": [
    "final_sub = pd.concat([sub1, sub2])"
   ]
  },
  {
   "cell_type": "code",
   "execution_count": 495,
   "metadata": {},
   "outputs": [],
   "source": [
    "final_sub.to_csv(\"sub.csv\", index=False)"
   ]
  },
  {
   "cell_type": "code",
   "execution_count": 496,
   "metadata": {},
   "outputs": [],
   "source": [
    "from IPython.display import FileLink"
   ]
  },
  {
   "cell_type": "code",
   "execution_count": 497,
   "metadata": {},
   "outputs": [
    {
     "data": {
      "text/html": [
       "<a href='sub.csv' target='_blank'>sub.csv</a><br>"
      ],
      "text/plain": [
       "/home/turgutluk/git/siim_acr_pneu/sub.csv"
      ]
     },
     "execution_count": 497,
     "metadata": {},
     "output_type": "execute_result"
    }
   ],
   "source": [
    "FileLink(\"sub.csv\")"
   ]
  },
  {
   "cell_type": "code",
   "execution_count": null,
   "metadata": {},
   "outputs": [],
   "source": []
  }
 ],
 "metadata": {
  "kernelspec": {
   "display_name": "Python [conda env:my_fastai]",
   "language": "python",
   "name": "conda-env-my_fastai-py"
  },
  "language_info": {
   "codemirror_mode": {
    "name": "ipython",
    "version": 3
   },
   "file_extension": ".py",
   "mimetype": "text/x-python",
   "name": "python",
   "nbconvert_exporter": "python",
   "pygments_lexer": "ipython3",
   "version": "3.7.2"
  }
 },
 "nbformat": 4,
 "nbformat_minor": 2
}
