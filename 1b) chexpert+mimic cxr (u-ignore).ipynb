{
 "cells": [
  {
   "cell_type": "markdown",
   "metadata": {},
   "source": [
    "### note: implement auc metric "
   ]
  },
  {
   "cell_type": "markdown",
   "metadata": {},
   "source": [
    "### imports"
   ]
  },
  {
   "cell_type": "code",
   "execution_count": 1,
   "metadata": {},
   "outputs": [],
   "source": [
    "%reload_ext autoreload\n",
    "%autoreload 2"
   ]
  },
  {
   "cell_type": "code",
   "execution_count": 2,
   "metadata": {
    "_cell_guid": "b1076dfc-b9ad-4769-8c92-a6c4dae69d19",
    "_uuid": "8f2839f25d086af736a60e9eeb907d3b93b6e0e5"
   },
   "outputs": [
    {
     "data": {
      "text/plain": [
       "'1.0.55.dev0'"
      ]
     },
     "execution_count": 2,
     "metadata": {},
     "output_type": "execute_result"
    }
   ],
   "source": [
    "from fastai.vision import *\n",
    "import fastai; fastai.__version__"
   ]
  },
  {
   "cell_type": "code",
   "execution_count": 3,
   "metadata": {},
   "outputs": [],
   "source": [
    "chexpert_path = Path(\"../../data/chexpert/\")\n",
    "mimic_path = Path(\"../../data/mimic-cxr\")"
   ]
  },
  {
   "cell_type": "code",
   "execution_count": 4,
   "metadata": {},
   "outputs": [
    {
     "data": {
      "text/plain": [
       "[PosixPath('../../data/chexpert/models'),\n",
       " PosixPath('../../data/chexpert/CheXpert-v1.0.zip'),\n",
       " PosixPath('../../data/chexpert/CheXpert-v1.0-small')]"
      ]
     },
     "execution_count": 4,
     "metadata": {},
     "output_type": "execute_result"
    }
   ],
   "source": [
    "chexpert_path.ls()"
   ]
  },
  {
   "cell_type": "code",
   "execution_count": 5,
   "metadata": {},
   "outputs": [
    {
     "data": {
      "text/plain": [
       "[PosixPath('../../data/mimic-cxr/train'),\n",
       " PosixPath('../../data/mimic-cxr/chx_mimic_valid_320.csv'),\n",
       " PosixPath('../../data/mimic-cxr/chx_mimic_train_320.csv'),\n",
       " PosixPath('../../data/mimic-cxr/valid'),\n",
       " PosixPath('../../data/mimic-cxr/valid_320'),\n",
       " PosixPath('../../data/mimic-cxr/train.csv'),\n",
       " PosixPath('../../data/mimic-cxr/train_320'),\n",
       " PosixPath('../../data/mimic-cxr/valid.csv')]"
      ]
     },
     "execution_count": 5,
     "metadata": {},
     "output_type": "execute_result"
    }
   ],
   "source": [
    "mimic_path.ls()"
   ]
  },
  {
   "cell_type": "code",
   "execution_count": 6,
   "metadata": {},
   "outputs": [],
   "source": [
    "torch.cuda.set_device(3)"
   ]
  },
  {
   "cell_type": "markdown",
   "metadata": {},
   "source": [
    "### data"
   ]
  },
  {
   "cell_type": "code",
   "execution_count": null,
   "metadata": {},
   "outputs": [],
   "source": [
    "chx_train_df = pd.read_csv(chexpert_path/\"CheXpert-v1.0-small/train.csv\")\n",
    "chx_valid_df = pd.read_csv(chexpert_path/\"CheXpert-v1.0-small/valid.csv\")"
   ]
  },
  {
   "cell_type": "code",
   "execution_count": null,
   "metadata": {},
   "outputs": [],
   "source": [
    "chx_train_df.head(2)"
   ]
  },
  {
   "cell_type": "code",
   "execution_count": null,
   "metadata": {},
   "outputs": [],
   "source": [
    "mimic_train_df = pd.read_csv(mimic_path/\"train.csv\").rename(columns={\"path\":\"Path\", \"Airspace Opacity\": \"Lung Opacity\"})\n",
    "mimic_valid_df = pd.read_csv(mimic_path/\"valid.csv\").rename(columns={\"path\":\"Path\", \"Airspace Opacity\": \"Lung Opacity\"})"
   ]
  },
  {
   "cell_type": "code",
   "execution_count": null,
   "metadata": {},
   "outputs": [],
   "source": [
    "mimic_train_df.head(2)"
   ]
  },
  {
   "cell_type": "code",
   "execution_count": null,
   "metadata": {},
   "outputs": [],
   "source": [
    "label_columns = list(chx_train_df.columns[5:])"
   ]
  },
  {
   "cell_type": "code",
   "execution_count": null,
   "metadata": {},
   "outputs": [],
   "source": [
    "columns = ['Path'] + label_columns"
   ]
  },
  {
   "cell_type": "code",
   "execution_count": null,
   "metadata": {
    "scrolled": true
   },
   "outputs": [],
   "source": [
    "mimic_train_df['Path'] = mimic_train_df['Path'].apply(lambda x: 'mimic-cxr/'+x)\n",
    "mimic_valid_df['Path'] = mimic_valid_df['Path'].apply(lambda x: 'mimic-cxr/'+x)\n",
    "chx_train_df['Path'] = chx_train_df['Path'].apply(lambda x: 'chexpert/'+x)\n",
    "chx_valid_df['Path'] = chx_valid_df['Path'].apply(lambda x: 'chexpert/'+x)"
   ]
  },
  {
   "cell_type": "code",
   "execution_count": null,
   "metadata": {},
   "outputs": [],
   "source": [
    "# join chexpert and mimic train - valid\n",
    "train_df = pd.concat([chx_train_df[columns], mimic_train_df[columns]])\n",
    "valid_df = pd.concat([chx_valid_df[columns], mimic_valid_df[columns]])"
   ]
  },
  {
   "cell_type": "code",
   "execution_count": null,
   "metadata": {},
   "outputs": [],
   "source": [
    "train_df.shape, valid_df.shape"
   ]
  },
  {
   "cell_type": "code",
   "execution_count": null,
   "metadata": {},
   "outputs": [],
   "source": [
    "# https://github.com/stanfordmlgroup/chexpert-labeler/issues/9\n",
    "train_df[label_columns] = train_df[label_columns].fillna(-1)"
   ]
  },
  {
   "cell_type": "code",
   "execution_count": null,
   "metadata": {},
   "outputs": [],
   "source": [
    "{c: train_df[c].unique() for c in label_columns}"
   ]
  },
  {
   "cell_type": "code",
   "execution_count": null,
   "metadata": {},
   "outputs": [],
   "source": [
    "{c: valid_df[c].unique() for c in label_columns}"
   ]
  },
  {
   "cell_type": "code",
   "execution_count": null,
   "metadata": {},
   "outputs": [],
   "source": [
    "train_df.head()"
   ]
  },
  {
   "cell_type": "markdown",
   "metadata": {},
   "source": [
    "### U-ignore"
   ]
  },
  {
   "cell_type": "code",
   "execution_count": null,
   "metadata": {
    "scrolled": true
   },
   "outputs": [],
   "source": [
    "train_df[label_columns].apply(lambda x: (x == -1).sum()/len(x))"
   ]
  },
  {
   "cell_type": "code",
   "execution_count": null,
   "metadata": {},
   "outputs": [],
   "source": [
    "train_df[label_columns].apply(lambda x: (x != -1).sum())"
   ]
  },
  {
   "cell_type": "code",
   "execution_count": null,
   "metadata": {},
   "outputs": [],
   "source": [
    "train_df.head()"
   ]
  },
  {
   "cell_type": "code",
   "execution_count": null,
   "metadata": {},
   "outputs": [],
   "source": [
    "train_df.tail()"
   ]
  },
  {
   "cell_type": "markdown",
   "metadata": {},
   "source": [
    "### training size"
   ]
  },
  {
   "cell_type": "code",
   "execution_count": null,
   "metadata": {},
   "outputs": [],
   "source": [
    "sz = 320"
   ]
  },
  {
   "cell_type": "code",
   "execution_count": null,
   "metadata": {},
   "outputs": [],
   "source": [
    "train_df.Path = train_df.Path.apply(lambda x: x.replace(\"train\", f\"train_{sz}\"))\n",
    "valid_df.Path = valid_df.Path.apply(lambda x: x.replace(\"train\", f\"valid_{sz}\"))"
   ]
  },
  {
   "cell_type": "code",
   "execution_count": null,
   "metadata": {},
   "outputs": [],
   "source": [
    "# shape of Chexpert small\n",
    "data_path = Path(\"../../data\")"
   ]
  },
  {
   "cell_type": "code",
   "execution_count": null,
   "metadata": {},
   "outputs": [],
   "source": [
    "open_image(data_path/train_df.Path.values[4]).data.shape"
   ]
  },
  {
   "cell_type": "code",
   "execution_count": null,
   "metadata": {},
   "outputs": [],
   "source": [
    "# shape of MIMIC CXR\n",
    "open_image(data_path/train_df.Path.values[-1]).data.shape"
   ]
  },
  {
   "cell_type": "code",
   "execution_count": null,
   "metadata": {},
   "outputs": [],
   "source": [
    "train_df.shape, valid_df.shape"
   ]
  },
  {
   "cell_type": "code",
   "execution_count": null,
   "metadata": {},
   "outputs": [],
   "source": [
    "train_df = train_df.fillna(-1); \n",
    "valid_df = valid_df.fillna(-1)"
   ]
  },
  {
   "cell_type": "code",
   "execution_count": null,
   "metadata": {},
   "outputs": [],
   "source": [
    "train_df.to_csv(mimic_path/\"chx_mimic_train_320.csv\", index=False)\n",
    "valid_df.to_csv(mimic_path/\"chx_mimic_valid_320.csv\", index=False)"
   ]
  },
  {
   "cell_type": "markdown",
   "metadata": {},
   "source": [
    "### databunch "
   ]
  },
  {
   "cell_type": "code",
   "execution_count": 7,
   "metadata": {},
   "outputs": [],
   "source": [
    "train_df = pd.read_csv(mimic_path/\"chx_mimic_train_320.csv\")\n",
    "valid_df = pd.read_csv(mimic_path/\"chx_mimic_valid_320.csv\")"
   ]
  },
  {
   "cell_type": "code",
   "execution_count": 8,
   "metadata": {},
   "outputs": [],
   "source": [
    "label_columns = train_df.columns[1:]"
   ]
  },
  {
   "cell_type": "code",
   "execution_count": 9,
   "metadata": {},
   "outputs": [
    {
     "data": {
      "text/plain": [
       "Index(['No Finding', 'Enlarged Cardiomediastinum', 'Cardiomegaly',\n",
       "       'Lung Opacity', 'Lung Lesion', 'Edema', 'Consolidation', 'Pneumonia',\n",
       "       'Atelectasis', 'Pneumothorax', 'Pleural Effusion', 'Pleural Other',\n",
       "       'Fracture', 'Support Devices'],\n",
       "      dtype='object')"
      ]
     },
     "execution_count": 9,
     "metadata": {},
     "output_type": "execute_result"
    }
   ],
   "source": [
    "label_columns"
   ]
  },
  {
   "cell_type": "code",
   "execution_count": 10,
   "metadata": {},
   "outputs": [],
   "source": [
    "sz,bs=320,64\n",
    "data_path = Path(\"../../data\")"
   ]
  },
  {
   "cell_type": "code",
   "execution_count": 11,
   "metadata": {},
   "outputs": [],
   "source": [
    "train_valid_df = pd.concat([train_df, valid_df])"
   ]
  },
  {
   "cell_type": "code",
   "execution_count": 12,
   "metadata": {},
   "outputs": [],
   "source": [
    "il = ImageList.from_df(train_valid_df, data_path, cols=['Path'])"
   ]
  },
  {
   "cell_type": "code",
   "execution_count": 13,
   "metadata": {},
   "outputs": [],
   "source": [
    "ill = il.split_by_rand_pct(valid_pct=0.02, seed=42)"
   ]
  },
  {
   "cell_type": "code",
   "execution_count": 14,
   "metadata": {},
   "outputs": [],
   "source": [
    "assert train_valid_df.shape[0] == (len(ill.train) + len(ill.valid))"
   ]
  },
  {
   "cell_type": "code",
   "execution_count": 15,
   "metadata": {},
   "outputs": [],
   "source": [
    "train_fnames = [\"/\".join(s.split(\"/\")[4:]) for s in ill.train.items]\n",
    "valid_fnames = [\"/\".join(s.split(\"/\")[4:]) for s in ill.valid.items]"
   ]
  },
  {
   "cell_type": "code",
   "execution_count": 16,
   "metadata": {},
   "outputs": [],
   "source": [
    "assert train_valid_df.shape[0] == (len(train_fnames) + len(valid_fnames))"
   ]
  },
  {
   "cell_type": "code",
   "execution_count": 17,
   "metadata": {
    "scrolled": true
   },
   "outputs": [],
   "source": [
    "# create labels\n",
    "is_train = train_valid_df.Path.apply(lambda x: '/'.join(x.split('/')[1:])).isin(train_fnames)\n",
    "train_labels = np.array(train_valid_df.loc[is_train, label_columns])\n",
    "valid_labels = np.array(train_valid_df.loc[~is_train, label_columns])"
   ]
  },
  {
   "cell_type": "code",
   "execution_count": 18,
   "metadata": {},
   "outputs": [],
   "source": [
    "assert train_valid_df.shape[0] == (len(train_labels) + len(valid_labels))"
   ]
  },
  {
   "cell_type": "code",
   "execution_count": 19,
   "metadata": {
    "scrolled": true
   },
   "outputs": [],
   "source": [
    "tfms = get_transforms()\n",
    "pretrained = True\n",
    "\n",
    "data = (ill.label_from_lists(list(train_labels), list(valid_labels), label_cls=FloatList)\n",
    "        .transform(tfms, size=sz)\n",
    "        .databunch(bs=bs))\n",
    "data = data.normalize(imagenet_stats) if pretrained else data.normalize()"
   ]
  },
  {
   "cell_type": "code",
   "execution_count": 20,
   "metadata": {},
   "outputs": [],
   "source": [
    "assert train_valid_df.shape[0] == (len(data.train_ds) + len(data.valid_ds))"
   ]
  },
  {
   "cell_type": "code",
   "execution_count": 21,
   "metadata": {},
   "outputs": [
    {
     "data": {
      "text/plain": [
       "(Index(['No Finding', 'Enlarged Cardiomediastinum', 'Cardiomegaly',\n",
       "        'Lung Opacity', 'Lung Lesion', 'Edema', 'Consolidation', 'Pneumonia',\n",
       "        'Atelectasis', 'Pneumothorax', 'Pleural Effusion', 'Pleural Other',\n",
       "        'Fracture', 'Support Devices'],\n",
       "       dtype='object'), ([0.485, 0.456, 0.406], [0.229, 0.224, 0.225]))"
      ]
     },
     "execution_count": 21,
     "metadata": {},
     "output_type": "execute_result"
    }
   ],
   "source": [
    "# set data classes\n",
    "data.classes = label_columns\n",
    "data.classes, data.stats"
   ]
  },
  {
   "cell_type": "code",
   "execution_count": 22,
   "metadata": {
    "scrolled": true
   },
   "outputs": [],
   "source": [
    "# data.show_batch(3)"
   ]
  },
  {
   "cell_type": "markdown",
   "metadata": {},
   "source": [
    "### model"
   ]
  },
  {
   "cell_type": "code",
   "execution_count": 23,
   "metadata": {},
   "outputs": [],
   "source": [
    "from chexpert_dev.uignore import *"
   ]
  },
  {
   "cell_type": "code",
   "execution_count": 24,
   "metadata": {},
   "outputs": [],
   "source": [
    "pretrained = True\n",
    "# eps = 1e-4\n",
    "# opt_func= partial(optim.Adam, betas=(0.9,0.99), eps=eps)"
   ]
  },
  {
   "cell_type": "code",
   "execution_count": 29,
   "metadata": {},
   "outputs": [],
   "source": [
    "if pretrained:\n",
    "    learn = cnn_learner(data, models.densenet121, pretrained=True,\n",
    "                        loss_func=MaskedBCEWithLogitsLoss()).to_fp16()\n",
    "else:                                  \n",
    "    learn = Learner(data, models.xresnet34(c_out=data.c),\n",
    "                    loss_func=MaskedBCEWithLogitsLoss()).to_fp16()"
   ]
  },
  {
   "cell_type": "code",
   "execution_count": 30,
   "metadata": {},
   "outputs": [],
   "source": [
    "roc_auc_cb = MaskedMultiLabelROCAUC(learn=learn, verbose=False)"
   ]
  },
  {
   "cell_type": "code",
   "execution_count": 32,
   "metadata": {
    "scrolled": true
   },
   "outputs": [],
   "source": [
    "learn.metrics = [partial(masked_accuracy_thres, thres=0.5, m=-1)]"
   ]
  },
  {
   "cell_type": "code",
   "execution_count": 33,
   "metadata": {},
   "outputs": [
    {
     "data": {
      "text/html": [],
      "text/plain": [
       "<IPython.core.display.HTML object>"
      ]
     },
     "metadata": {},
     "output_type": "display_data"
    },
    {
     "name": "stdout",
     "output_type": "stream",
     "text": [
      "LR Finder is complete, type {learner_name}.recorder.plot() to see the graph.\n"
     ]
    },
    {
     "data": {
      "image/png": "[encoded data removed]",
      "text/plain": [
       "<Figure size 432x288 with 1 Axes>"
      ]
     },
     "metadata": {
      "needs_background": "light"
     },
     "output_type": "display_data"
    }
   ],
   "source": [
    "learn.lr_find()\n",
    "learn.recorder.plot()"
   ]
  },
  {
   "cell_type": "code",
   "execution_count": null,
   "metadata": {
    "scrolled": true
   },
   "outputs": [
    {
     "data": {
      "text/html": [
       "\n",
       "    <div>\n",
       "        <style>\n",
       "            /* Turns off some styling */\n",
       "            progress {\n",
       "                /* gets rid of default border in Firefox and Opera. */\n",
       "                border: none;\n",
       "                /* Needs to be in here for Safari polyfill so background images work as expected. */\n",
       "                background-size: auto;\n",
       "            }\n",
       "            .progress-bar-interrupted, .progress-bar-interrupted::-webkit-progress-bar {\n",
       "                background: #F44336;\n",
       "            }\n",
       "        </style>\n",
       "      <progress value='1' class='' max='5', style='width:300px; height:20px; vertical-align: middle;'></progress>\n",
       "      20.00% [1/5 1:21:20<5:25:23]\n",
       "    </div>\n",
       "    \n",
       "<table border=\"1\" class=\"dataframe\">\n",
       "  <thead>\n",
       "    <tr style=\"text-align: left;\">\n",
       "      <th>epoch</th>\n",
       "      <th>train_loss</th>\n",
       "      <th>valid_loss</th>\n",
       "      <th>masked_accuracy_thres</th>\n",
       "      <th>mean_roc_auc</th>\n",
       "      <th>time</th>\n",
       "    </tr>\n",
       "  </thead>\n",
       "  <tbody>\n",
       "    <tr>\n",
       "      <td>0</td>\n",
       "      <td>0.816102</td>\n",
       "      <td>1.841371</td>\n",
       "      <td>0.738442</td>\n",
       "      <td>0.767697</td>\n",
       "      <td>1:21:20</td>\n",
       "    </tr>\n",
       "  </tbody>\n",
       "</table><p>\n",
       "\n",
       "    <div>\n",
       "        <style>\n",
       "            /* Turns off some styling */\n",
       "            progress {\n",
       "                /* gets rid of default border in Firefox and Opera. */\n",
       "                border: none;\n",
       "                /* Needs to be in here for Safari polyfill so background images work as expected. */\n",
       "                background-size: auto;\n",
       "            }\n",
       "            .progress-bar-interrupted, .progress-bar-interrupted::-webkit-progress-bar {\n",
       "                background: #F44336;\n",
       "            }\n",
       "        </style>\n",
       "      <progress value='720' class='' max='9118', style='width:300px; height:20px; vertical-align: middle;'></progress>\n",
       "      7.90% [720/9118 04:17<50:07 0.8382]\n",
       "    </div>\n",
       "    "
      ],
      "text/plain": [
       "<IPython.core.display.HTML object>"
      ]
     },
     "metadata": {},
     "output_type": "display_data"
    }
   ],
   "source": [
    "# training from scratch\n",
    "learn.fit_one_cycle(5, 1e-2, callbacks=[roc_auc_cb])"
   ]
  },
  {
   "cell_type": "code",
   "execution_count": null,
   "metadata": {
    "scrolled": true
   },
   "outputs": [],
   "source": [
    "# # transfer learning\n",
    "\n",
    "lr=1e-2\n",
    "# learn.fit_one_cycle(5, lr)\n",
    "\n",
    "learn.freeze_to(-1)\n",
    "\n",
    "learn.fit_one_cycle(5, slice(lr/5))\n",
    "\n",
    "learn.unfreeze()\n",
    "\n",
    "learn.fit_one_cycle(5, slice(lr/10))"
   ]
  },
  {
   "cell_type": "code",
   "execution_count": null,
   "metadata": {},
   "outputs": [],
   "source": [
    "# learn.save(f\"u-ignore-resnet34-{sz}\")\n",
    "# learn.to_fp32().save(f\"u-ignore-resnext34-{sz}\")\n",
    "learn.to_fp32().save(f\"chx-mimic-u-ignore-densenet121-{sz}\")"
   ]
  },
  {
   "cell_type": "code",
   "execution_count": 41,
   "metadata": {},
   "outputs": [],
   "source": [
    "learn.load(f\"chx-mimic-u-ignore-densenet121-{sz}\");"
   ]
  },
  {
   "cell_type": "code",
   "execution_count": 42,
   "metadata": {},
   "outputs": [
    {
     "data": {
      "text/plain": [
       "[1.7854761, tensor(0.7342), tensor(0.5044)]"
      ]
     },
     "execution_count": 42,
     "metadata": {},
     "output_type": "execute_result"
    }
   ],
   "source": [
    "learn.validate(callbacks=[roc_auc_cb])"
   ]
  },
  {
   "cell_type": "markdown",
   "metadata": {},
   "source": [
    "### add test"
   ]
  },
  {
   "cell_type": "code",
   "execution_count": 41,
   "metadata": {},
   "outputs": [],
   "source": [
    "test = ImageList.from_df(valid_df, data_path, cols=['Path'])"
   ]
  },
  {
   "cell_type": "code",
   "execution_count": 42,
   "metadata": {},
   "outputs": [],
   "source": [
    "learn.data.add_test(test)"
   ]
  },
  {
   "cell_type": "code",
   "execution_count": 43,
   "metadata": {
    "scrolled": true
   },
   "outputs": [
    {
     "name": "stderr",
     "output_type": "stream",
     "text": [
      "/home/turgutluk/.conda/envs/my_fastai/lib/python3.7/site-packages/torch/serialization.py:256: UserWarning: Couldn't retrieve source code for container of type MaskedBCEWithLogitsLoss. It won't be checked for correctness upon loading.\n",
      "  \"type \" + obj.__name__ + \". It won't be checked \"\n"
     ]
    }
   ],
   "source": [
    "# learn.load(f\"u-ignore-resnext34-{sz}\");\n",
    "learn.load(f\"u-ignore-densenet121-{sz}\");"
   ]
  },
  {
   "cell_type": "markdown",
   "metadata": {},
   "source": [
    "### per class AUCs of test"
   ]
  },
  {
   "cell_type": "code",
   "execution_count": 52,
   "metadata": {},
   "outputs": [],
   "source": [
    "preds, targs = learn.get_preds(DatasetType.Test)"
   ]
  },
  {
   "cell_type": "code",
   "execution_count": 53,
   "metadata": {},
   "outputs": [],
   "source": [
    "probas = preds.sigmoid()"
   ]
  },
  {
   "cell_type": "code",
   "execution_count": 54,
   "metadata": {},
   "outputs": [],
   "source": [
    "targs = tensor(np.array(valid_df[label_columns]))"
   ]
  },
  {
   "cell_type": "code",
   "execution_count": 55,
   "metadata": {},
   "outputs": [
    {
     "data": {
      "text/plain": [
       "(torch.Size([234, 14]), torch.Size([234, 14]))"
      ]
     },
     "execution_count": 55,
     "metadata": {},
     "output_type": "execute_result"
    }
   ],
   "source": [
    "targs.shape, probas.shape"
   ]
  },
  {
   "cell_type": "code",
   "execution_count": 56,
   "metadata": {},
   "outputs": [],
   "source": [
    "from sklearn.metrics import roc_auc_score, auc"
   ]
  },
  {
   "cell_type": "code",
   "execution_count": 86,
   "metadata": {},
   "outputs": [
    {
     "data": {
      "text/plain": [
       "{'No Finding': 0.5222878625134264,\n",
       " 'Enlarged Cardiomediastinum': 0.864,\n",
       " 'Cardiomegaly': 0.8412473423104182,\n",
       " 'Lung Opacity': 0.8974132863021752,\n",
       " 'Lung Lesion': 0.5708154506437768,\n",
       " 'Edema': 0.8883009994121105,\n",
       " 'Consolidation': 0.9219056233981606,\n",
       " 'Pneumonia': 0.7466814159292036,\n",
       " 'Atelectasis': 0.8350649350649352,\n",
       " 'Pneumothorax': 0.6786504424778761,\n",
       " 'Pleural Effusion': 0.9098221467512735,\n",
       " 'Pleural Other': 0.4377682403433476}"
      ]
     },
     "execution_count": 86,
     "metadata": {},
     "output_type": "execute_result"
    }
   ],
   "source": [
    "{c:roc_auc_score(targs[:,i], probas[:, i]) for i,c in enumerate(label_columns[:-2])}"
   ]
  },
  {
   "cell_type": "code",
   "execution_count": 292,
   "metadata": {},
   "outputs": [
    {
     "data": {
      "text/plain": [
       "{'No Finding': 0.5781417830290011,\n",
       " 'Enlarged Cardiomediastinum': 0.8956330275229358,\n",
       " 'Cardiomegaly': 0.8657866761162296,\n",
       " 'Lung Opacity': 0.8851410934744269,\n",
       " 'Lung Lesion': 0.7896995708154506,\n",
       " 'Edema': 0.8754850088183421,\n",
       " 'Consolidation': 0.9139152721242273,\n",
       " 'Pneumonia': 0.8213495575221239,\n",
       " 'Atelectasis': 0.8271915584415584,\n",
       " 'Pneumothorax': 0.7809734513274336,\n",
       " 'Pleural Effusion': 0.9257306282956475,\n",
       " 'Pleural Other': 0.40343347639484983}"
      ]
     },
     "execution_count": 292,
     "metadata": {},
     "output_type": "execute_result"
    }
   ],
   "source": [
    "{c:roc_auc_score(targs[:,i], probas[:, i]) for i,c in enumerate(label_columns[:-2])}"
   ]
  },
  {
   "cell_type": "code",
   "execution_count": 58,
   "metadata": {},
   "outputs": [
    {
     "data": {
      "text/plain": [
       "0.7594964787622253"
      ]
     },
     "execution_count": 58,
     "metadata": {},
     "output_type": "execute_result"
    }
   ],
   "source": [
    "np.mean([roc_auc_score(targs[:,i], probas[:, i]) for i,c in enumerate(label_columns[:-2])])"
   ]
  },
  {
   "cell_type": "code",
   "execution_count": null,
   "metadata": {},
   "outputs": [],
   "source": []
  },
  {
   "cell_type": "code",
   "execution_count": null,
   "metadata": {},
   "outputs": [],
   "source": []
  }
 ],
 "metadata": {
  "kernelspec": {
   "display_name": "Python [conda env:my_fastai]",
   "language": "python",
   "name": "conda-env-my_fastai-py"
  },
  "language_info": {
   "codemirror_mode": {
    "name": "ipython",
    "version": 3
   },
   "file_extension": ".py",
   "mimetype": "text/x-python",
   "name": "python",
   "nbconvert_exporter": "python",
   "pygments_lexer": "ipython3",
   "version": "3.7.2"
  }
 },
 "nbformat": 4,
 "nbformat_minor": 2
}
